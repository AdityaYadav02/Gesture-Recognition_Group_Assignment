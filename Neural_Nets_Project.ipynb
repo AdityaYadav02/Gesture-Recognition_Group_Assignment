{
 "cells": [
  {
   "cell_type": "markdown",
   "metadata": {
    "id": "tfHqT3FoxOF6"
   },
   "source": [
    "# Deep Learning Course Project - Gesture Recognition\n",
    "\n",
    "- Arunava Bhattacharya\n",
    "- Aditya Yadav\n",
    "\n",
    "In this project the key steps are performed\n",
    "1. Load and process the data\n",
    "2. Use multiple modelling technique like CNN-RNN stack or 3D Conv model to find out best model suited best gesture recognition problem\n",
    "3. Once the best model is identified using train data, need to run the model over validations data as provided to measure various parameters for verify efficiency of the model\n",
    "4. Overall the goal is to build an efficinet model which predicts 5 gesture correctly"
   ]
  },
  {
   "cell_type": "markdown",
   "metadata": {
    "id": "cdzjLKH_jsaX"
   },
   "source": [
    "As the first step, lets mount the google colab drive so that the files can be accessed from google drive. We have used google colab due to computation power and maximise GPU"
   ]
  },
  {
   "cell_type": "code",
   "execution_count": 1,
   "metadata": {
    "colab": {
     "base_uri": "https://localhost:8080/"
    },
    "id": "4_abm0r6yEC9",
    "outputId": "cf692d88-f526-4e21-e138-c4e65b792a51"
   },
   "outputs": [
    {
     "name": "stdout",
     "output_type": "stream",
     "text": [
      "Mounted at /content/drive\n"
     ]
    }
   ],
   "source": [
    "from google.colab import drive\n",
    "drive.mount('/content/drive')"
   ]
  },
  {
   "cell_type": "code",
   "execution_count": 2,
   "metadata": {
    "id": "DCk9V1ntxOGF"
   },
   "outputs": [],
   "source": [
    "import numpy as np\n",
    "import pandas as pd\n",
    "import os\n",
    "from skimage import io\n",
    "import datetime\n",
    "import os\n",
    "import cv2\n",
    "import matplotlib.pyplot as plt\n",
    "%matplotlib inline\n",
    "import random as rn\n",
    "from keras import backend as K\n",
    "import tensorflow as tf"
   ]
  },
  {
   "cell_type": "code",
   "execution_count": 3,
   "metadata": {
    "id": "DWHxfXUcxOGL"
   },
   "outputs": [],
   "source": [
    "#Lets set random seed to 30 so that result doesn't vary drastically\n",
    "np.random.seed(30)\n",
    "rn.seed(30)\n",
    "tf.random.set_seed(30)"
   ]
  },
  {
   "cell_type": "markdown",
   "metadata": {
    "id": "qLhXXEK1xOGM"
   },
   "source": [
    "Lets read the folder names for training and validation. \n",
    "\n",
    "Lets also set the `batch_size` as 10 intially and keep increasing the batch size until the machine throws an error."
   ]
  },
  {
   "cell_type": "code",
   "execution_count": 4,
   "metadata": {
    "id": "aQAV_wxMxOGN"
   },
   "outputs": [],
   "source": [
    "# Training data\n",
    "train_doc = np.random.permutation(open('/content/drive/My Drive/Colab Notebooks/Project_data/train.csv').readlines())\n",
    "\n",
    "#Validation data\n",
    "val_doc = np.random.permutation(open('/content/drive/My Drive/Colab Notebooks/Project_data/val.csv').readlines())\n",
    "\n",
    "#Setting batch size to 10\n",
    "batch_size = 10"
   ]
  },
  {
   "cell_type": "code",
   "execution_count": 5,
   "metadata": {
    "id": "WUOcd84zxOGR"
   },
   "outputs": [],
   "source": [
    "#lets resize the image with size 120x120\n",
    "rows = 120\n",
    "cols = 120"
   ]
  },
  {
   "cell_type": "code",
   "execution_count": 6,
   "metadata": {
    "colab": {
     "base_uri": "https://localhost:8080/",
     "height": 204
    },
    "id": "gJ6h5tUXxOGR",
    "outputId": "a6dc9ba8-a961-46e0-f698-5b8c2d125c25",
    "scrolled": true
   },
   "outputs": [
    {
     "data": {
      "text/html": [
       "<div>\n",
       "<style scoped>\n",
       "    .dataframe tbody tr th:only-of-type {\n",
       "        vertical-align: middle;\n",
       "    }\n",
       "\n",
       "    .dataframe tbody tr th {\n",
       "        vertical-align: top;\n",
       "    }\n",
       "\n",
       "    .dataframe thead th {\n",
       "        text-align: right;\n",
       "    }\n",
       "</style>\n",
       "<table border=\"1\" class=\"dataframe\">\n",
       "  <thead>\n",
       "    <tr style=\"text-align: right;\">\n",
       "      <th></th>\n",
       "      <th>Video_Name</th>\n",
       "      <th>Action_name</th>\n",
       "      <th>Action_Class</th>\n",
       "    </tr>\n",
       "  </thead>\n",
       "  <tbody>\n",
       "    <tr>\n",
       "      <th>0</th>\n",
       "      <td>WIN_20180926_16_54_08_Pro_Right_Swipe_new</td>\n",
       "      <td>Right_Swipe_new</td>\n",
       "      <td>1</td>\n",
       "    </tr>\n",
       "    <tr>\n",
       "      <th>1</th>\n",
       "      <td>WIN_20180925_18_02_58_Pro_Thumbs_Down_new</td>\n",
       "      <td>Thumbs_Down_new</td>\n",
       "      <td>3</td>\n",
       "    </tr>\n",
       "    <tr>\n",
       "      <th>2</th>\n",
       "      <td>WIN_20180925_17_33_08_Pro_Left_Swipe_new</td>\n",
       "      <td>Left_Swipe_new</td>\n",
       "      <td>0</td>\n",
       "    </tr>\n",
       "    <tr>\n",
       "      <th>3</th>\n",
       "      <td>WIN_20180925_17_51_17_Pro_Thumbs_Up_new</td>\n",
       "      <td>Thumbs_Up_new</td>\n",
       "      <td>4</td>\n",
       "    </tr>\n",
       "    <tr>\n",
       "      <th>4</th>\n",
       "      <td>WIN_20180926_17_17_35_Pro_Left_Swipe_new</td>\n",
       "      <td>Left_Swipe_new</td>\n",
       "      <td>0</td>\n",
       "    </tr>\n",
       "  </tbody>\n",
       "</table>\n",
       "</div>"
      ],
      "text/plain": [
       "                                  Video_Name      Action_name Action_Class\n",
       "0  WIN_20180926_16_54_08_Pro_Right_Swipe_new  Right_Swipe_new            1\n",
       "1  WIN_20180925_18_02_58_Pro_Thumbs_Down_new  Thumbs_Down_new            3\n",
       "2   WIN_20180925_17_33_08_Pro_Left_Swipe_new   Left_Swipe_new            0\n",
       "3    WIN_20180925_17_51_17_Pro_Thumbs_Up_new    Thumbs_Up_new            4\n",
       "4   WIN_20180926_17_17_35_Pro_Left_Swipe_new   Left_Swipe_new            0"
      ]
     },
     "execution_count": 6,
     "metadata": {
      "tags": []
     },
     "output_type": "execute_result"
    }
   ],
   "source": [
    "#lets understand the current distribution of class as EDA\n",
    "train_df = pd.DataFrame()\n",
    "frame_name = []\n",
    "frame_target = []\n",
    "frame_class = []\n",
    "\n",
    "\n",
    "for train_data in train_doc:\n",
    "    data = train_data.split(\";\")\n",
    "    frame_name.append(data[0])\n",
    "    frame_target.append(data[1])\n",
    "    frame_class.append(data[2].strip())\n",
    "   \n",
    "train_df[\"Video_Name\"] = frame_name\n",
    "train_df[\"Action_name\"] = frame_target\n",
    "train_df[\"Action_Class\"] = frame_class\n",
    "\n",
    "train_df.head()"
   ]
  },
  {
   "cell_type": "code",
   "execution_count": 7,
   "metadata": {
    "colab": {
     "base_uri": "https://localhost:8080/",
     "height": 347
    },
    "id": "5Ctflp_jxOGS",
    "outputId": "8b6b0d79-c24f-43f6-915f-34ddde0f9310",
    "scrolled": true
   },
   "outputs": [
    {
     "data": {
      "image/png": "[encoded data removed]",
      "text/plain": [
       "<Figure size 1296x360 with 1 Axes>"
      ]
     },
     "metadata": {
      "needs_background": "light",
      "tags": []
     },
     "output_type": "display_data"
    }
   ],
   "source": [
    "# plotting to see the distribution of classes\n",
    "train_df.Action_Class.value_counts()\n",
    "\n",
    "size = [train_df.Action_Class.value_counts()[0],train_df.Action_Class.value_counts()[1],\n",
    "        train_df.Action_Class.value_counts()[2],train_df.Action_Class.value_counts()[3],\n",
    "        train_df.Action_Class.value_counts()[4]]\n",
    "lables = ['3','1','0','2','4']\n",
    "\n",
    "plt.figure(figsize=(18,5))\n",
    "\n",
    "plt.title('Bar')\n",
    "train_df.groupby('Action_Class').Action_name.count().plot(kind='bar') #Balanced\n",
    "plt.show()"
   ]
  },
  {
   "cell_type": "markdown",
   "metadata": {
    "id": "lst9rGeIxOGT"
   },
   "source": [
    "# Generator\n",
    "This is one of the most important part of the code. In the generator, we are going to preprocess the images as we have images of 2 different dimensions as well as create a batch of video frames. we have chosen `img_idx`, `y`,`z` and normalization in such a way that we get high accuracy."
   ]
  },
  {
   "cell_type": "code",
   "execution_count": 8,
   "metadata": {
    "id": "xrwBaVWZxOGU"
   },
   "outputs": [],
   "source": [
    "# Lets resize all the images to ensure all the images are in same size\n",
    "def crop_resize_img (image):\n",
    "    if image.shape[0] != image.shape[1]:\n",
    "        image = image[0:120,10:150]\n",
    "    resized_image = cv2.resize(image, (120,120))\n",
    "    return resized_image"
   ]
  },
  {
   "cell_type": "code",
   "execution_count": 9,
   "metadata": {
    "id": "Rwv-TWN-xOGU"
   },
   "outputs": [],
   "source": [
    "def generator(source_path, folder_list, batch_size):\n",
    "    print( 'Source path = ', source_path, '; batch size =', batch_size)\n",
    "    img_idx = list(range(5,25))\n",
    "    x = len(img_idx)\n",
    "    y = 120\n",
    "    z = 120\n",
    "    \n",
    "    while True:\n",
    "        t = np.random.permutation(folder_list)\n",
    "        num_batches = int(len(t)//batch_size)\n",
    "        for batch in range(num_batches):\n",
    "            batch_data = np.zeros((batch_size,x,y,z,3)) # x is the number of images you use for each video, (y,z) is the final size of the input images and 3 is the number of channels RGB\n",
    "            batch_labels = np.zeros((batch_size,5)) # batch_labels is the one hot representation of the output\n",
    "            for folder in range(batch_size): # iterate over the batch_size\n",
    "                imgs = os.listdir(source_path+'/'+ t[folder + (batch*batch_size)].split(';')[0]) # read all the images in the folder\n",
    "                for idx,item in enumerate(img_idx): #  Iterate iver the frames/images of a folder to read them in\n",
    "                    image = io.imread(source_path+'/'+ t[folder + (batch*batch_size)].strip().split(';')[0]+'/'+imgs[item]).astype(np.float32)\n",
    "                    \n",
    "                    resized_img = crop_resize_img(image)\n",
    "                    \n",
    "                    batch_data[folder,idx,:,:,0] = resized_img[:,:,0]/255\n",
    "                    batch_data[folder,idx,:,:,1] = resized_img[:,:,1]/255\n",
    "                    batch_data[folder,idx,:,:,2] = resized_img[:,:,2]/255\n",
    "                    \n",
    "                batch_labels[folder, int(t[folder + (batch*batch_size)].strip().split(';')[2])] = 1\n",
    "            yield batch_data, batch_labels #yield the batch_data and the batch_labels\n",
    "            \n",
    "\n",
    "        \n",
    "        # code for the remaining data points which are left after full batches\n",
    "        if int(len(t)%batch_size!=0):\n",
    "            rest_videos_count = int(len(t)%batch_size)\n",
    "            for folder in range(rest_videos_count): # iterate over the batch_size\n",
    "                imgs = os.listdir(source_path+'/'+ t[folder + ((num_batches)*batch_size)].split(';')[0]) # read all the images in the folder\n",
    "                for idx,item in enumerate(img_idx): #  Iterate iver the frames/images of a folder to read them in\n",
    "                    image = io.imread(source_path+'/'+ t[folder + ((num_batches)*batch_size)].strip().split(';')[0]+'/'+imgs[item]).astype(np.float32)\n",
    "                    \n",
    "                    #crop the images and resize them\n",
    "                    resized_img = crop_resize_img(image) #resizing the image\n",
    "                    \n",
    "                    batch_data[folder,idx,:,:,0] = resized_img[:,:,0]/255 #normalise and feed in the image\n",
    "                    batch_data[folder,idx,:,:,1] = resized_img[:,:,1]/255 #normalise and feed in the image\n",
    "                    batch_data[folder,idx,:,:,2] = resized_img[:,:,2]/255 #normalise and feed in the image\n",
    "                    \n",
    "                batch_labels[folder, int(t[folder + (num_batches*batch_size)].strip().split(';')[2])] = 1\n",
    "            yield batch_data, batch_labels #yield the batch_data and the batch_labels"
   ]
  },
  {
   "cell_type": "markdown",
   "metadata": {
    "id": "R5iMBsvpxOGW"
   },
   "source": [
    "Note here that a video is represented above in the generator as (number of images, height, width, number of channels). We have taken this into consideration while creating the model architecture."
   ]
  },
  {
   "cell_type": "code",
   "execution_count": 10,
   "metadata": {
    "colab": {
     "base_uri": "https://localhost:8080/"
    },
    "id": "MzU6HbJdxOGX",
    "outputId": "9f660e9e-eed3-4701-c25c-c9e0d03e8c46"
   },
   "outputs": [
    {
     "name": "stdout",
     "output_type": "stream",
     "text": [
      "# training sequences = 663\n",
      "# validation sequences = 100\n",
      "# epochs = 10\n"
     ]
    }
   ],
   "source": [
    "#Lets define the global parameters requires for this solution \n",
    "curr_dt_time = datetime.datetime.now()\n",
    "\n",
    "train_path = '/content/drive/My Drive/Colab Notebooks/Project_data/train'\n",
    "val_path = '/content/drive/My Drive/Colab Notebooks/Project_data/val'\n",
    "\n",
    "\n",
    "num_train_sequences = len(train_doc)\n",
    "print('# training sequences =', num_train_sequences)\n",
    "num_val_sequences = len(val_doc)\n",
    "print('# validation sequences =', num_val_sequences)\n",
    "num_epochs = 10 # choose the number of epochs\n",
    "print ('# epochs =', num_epochs)"
   ]
  },
  {
   "cell_type": "markdown",
   "metadata": {
    "id": "HPZeFnfDxOGX"
   },
   "source": [
    "## Model\n",
    "Here we make the model using different functionalities that Keras provides. We have used `Conv3D` and `MaxPooling3D` and not `Conv2D` and `Maxpooling2D` for a 3D convolution model. We have used `TimeDistributed` while building a Conv2D + RNN model. Also we have considered that the last layer is the softmax and we have designed the network in such a way that the model is able to give good accuracy on the least number of parameters so that it can fit in the memory of the webcam."
   ]
  },
  {
   "cell_type": "code",
   "execution_count": 11,
   "metadata": {
    "id": "QZrtT32MxOGY"
   },
   "outputs": [],
   "source": [
    "#Lets include more libraries thats required\n",
    "from keras.models import Sequential, Model\n",
    "from keras.layers import Dense, Flatten, TimeDistributed, Flatten, BatchNormalization, Activation, Dropout\n",
    "from keras.layers import Bidirectional,LSTM, SimpleRNN, GRU\n",
    "from keras.layers.convolutional import Conv3D, MaxPooling3D, Conv2D, MaxPooling2D\n",
    "from keras.callbacks import ModelCheckpoint, ReduceLROnPlateau\n",
    "from keras.regularizers import l2\n",
    "from keras import optimizers"
   ]
  },
  {
   "cell_type": "markdown",
   "metadata": {
    "id": "rOzTneadxOGY"
   },
   "source": [
    "Now that we have written the model, the next step is to `compile` the model. When we print the `summary` of the model, we'll see the total number of parameters we have to train."
   ]
  },
  {
   "cell_type": "code",
   "execution_count": 12,
   "metadata": {
    "id": "vhKPi4DpxOGZ"
   },
   "outputs": [],
   "source": [
    "frame = 20\n",
    "rows = 120\n",
    "cols = 120\n",
    "channel_color = 3\n",
    "num_classes = 5"
   ]
  },
  {
   "cell_type": "markdown",
   "metadata": {
    "id": "L2mmRh4xWaxB"
   },
   "source": [
    "# Architecutre 1 - Conv3d -------------------------------------------------"
   ]
  },
  {
   "cell_type": "markdown",
   "metadata": {
    "id": "wONfTZ83xOGZ"
   },
   "source": [
    "# Model 1 : Vanilla Conv3d"
   ]
  },
  {
   "cell_type": "code",
   "execution_count": 13,
   "metadata": {
    "id": "VRLS2vt6xOGa"
   },
   "outputs": [],
   "source": [
    "#Lets make the vanilla model\n",
    "model = Sequential()\n",
    "\n",
    "model.add(Conv3D(32, kernel_size = (3,3,3), padding = \"same\", activation = \"relu\" , input_shape = (frame, rows, cols, channel_color)))\n",
    "model.add(BatchNormalization())\n",
    "\n",
    "#HL1\n",
    "model.add(Conv3D(64, kernel_size=(3,3,3), padding='same', activation='relu'))\n",
    "model.add(BatchNormalization())\n",
    "model.add(MaxPooling3D(pool_size=(2, 2, 2)))\n",
    "\n",
    "#HL2\n",
    "model.add(Conv3D(128, kernel_size=(3,3,3), padding='same', activation='relu'))\n",
    "model.add(BatchNormalization())\n",
    "model.add(MaxPooling3D(pool_size=(2, 2, 2)))\n",
    "\n",
    "#Fully connected\n",
    "model.add(Flatten())\n",
    "model.add(Dense(256,  activation = \"relu\"))\n",
    "\n",
    "#output layer\n",
    "model.add(Dense(num_classes, activation = \"softmax\"))\n"
   ]
  },
  {
   "cell_type": "code",
   "execution_count": 14,
   "metadata": {
    "colab": {
     "base_uri": "https://localhost:8080/"
    },
    "id": "AvFEP1_ZxOGc",
    "outputId": "b1590cac-d0d8-4ed0-e220-b0449513d98e"
   },
   "outputs": [
    {
     "name": "stdout",
     "output_type": "stream",
     "text": [
      "Model: \"sequential\"\n",
      "_________________________________________________________________\n",
      "Layer (type)                 Output Shape              Param #   \n",
      "=================================================================\n",
      "conv3d (Conv3D)              (None, 20, 120, 120, 32)  2624      \n",
      "_________________________________________________________________\n",
      "batch_normalization (BatchNo (None, 20, 120, 120, 32)  128       \n",
      "_________________________________________________________________\n",
      "conv3d_1 (Conv3D)            (None, 20, 120, 120, 64)  55360     \n",
      "_________________________________________________________________\n",
      "batch_normalization_1 (Batch (None, 20, 120, 120, 64)  256       \n",
      "_________________________________________________________________\n",
      "max_pooling3d (MaxPooling3D) (None, 10, 60, 60, 64)    0         \n",
      "_________________________________________________________________\n",
      "conv3d_2 (Conv3D)            (None, 10, 60, 60, 128)   221312    \n",
      "_________________________________________________________________\n",
      "batch_normalization_2 (Batch (None, 10, 60, 60, 128)   512       \n",
      "_________________________________________________________________\n",
      "max_pooling3d_1 (MaxPooling3 (None, 5, 30, 30, 128)    0         \n",
      "_________________________________________________________________\n",
      "flatten (Flatten)            (None, 576000)            0         \n",
      "_________________________________________________________________\n",
      "dense (Dense)                (None, 256)               147456256 \n",
      "_________________________________________________________________\n",
      "dense_1 (Dense)              (None, 5)                 1285      \n",
      "=================================================================\n",
      "Total params: 147,737,733\n",
      "Trainable params: 147,737,285\n",
      "Non-trainable params: 448\n",
      "_________________________________________________________________\n",
      "None\n"
     ]
    }
   ],
   "source": [
    "#Lets use the optimiser and compile the model\n",
    "optimiser = \"adam\"\n",
    "model.compile(optimizer=optimiser, loss='categorical_crossentropy', metrics=['categorical_accuracy'])\n",
    "print (model.summary())"
   ]
  },
  {
   "cell_type": "markdown",
   "metadata": {
    "id": "QSczZZZAxOGd"
   },
   "source": [
    "Let us create the `train_generator` and the `val_generator` which will be used in `.fit_generator`."
   ]
  },
  {
   "cell_type": "code",
   "execution_count": 15,
   "metadata": {
    "id": "AaMcdr6VxOGe"
   },
   "outputs": [],
   "source": [
    "train_generator = generator(train_path, train_doc, batch_size)\n",
    "val_generator = generator(val_path, val_doc, batch_size)"
   ]
  },
  {
   "cell_type": "code",
   "execution_count": 16,
   "metadata": {
    "colab": {
     "base_uri": "https://localhost:8080/"
    },
    "id": "uemtvVwbxOGe",
    "outputId": "1fe20b4d-27e3-42df-a643-3a25bcf00fcc"
   },
   "outputs": [
    {
     "name": "stdout",
     "output_type": "stream",
     "text": [
      "WARNING:tensorflow:`period` argument is deprecated. Please use `save_freq` to specify the frequency in number of batches seen.\n"
     ]
    }
   ],
   "source": [
    "#Lets save the model checkpoint and define the LR\n",
    "model_name = 'model_init' + '_' + str(curr_dt_time).replace(' ','').replace(':','_') + '/'\n",
    "    \n",
    "if not os.path.exists(model_name):\n",
    "    os.mkdir(model_name)\n",
    "        \n",
    "filepath = model_name + 'model-{epoch:05d}-{loss:.5f}-{categorical_accuracy:.5f}-{val_loss:.5f}-{val_categorical_accuracy:.5f}.h5'\n",
    "\n",
    "checkpoint = ModelCheckpoint(filepath, monitor='val_loss', verbose=1, save_best_only=True, save_weights_only=False, mode='auto', period=1)\n",
    "\n",
    "# write the REducelronplateau code here\n",
    "LR = ReduceLROnPlateau(monitor = \"val_loss\", fractor = 0.5, patience = 2, cooldown = 1, verbose = 1)\n",
    "callbacks_list = [checkpoint, LR]"
   ]
  },
  {
   "cell_type": "markdown",
   "metadata": {
    "id": "zWETC7mqxOGf"
   },
   "source": [
    "The `steps_per_epoch` and `validation_steps` are used by `fit_generator` to decide the number of next() calls it need to make."
   ]
  },
  {
   "cell_type": "code",
   "execution_count": 17,
   "metadata": {
    "colab": {
     "base_uri": "https://localhost:8080/"
    },
    "id": "QtbSewKjxOGf",
    "outputId": "21ac4f9e-a9ef-41de-f30b-2c5895faf35e"
   },
   "outputs": [
    {
     "name": "stdout",
     "output_type": "stream",
     "text": [
      "Train Epoch value:  67\n",
      "Val Epoch value:  10\n"
     ]
    }
   ],
   "source": [
    "if (num_train_sequences%batch_size) == 0:\n",
    "    steps_per_epoch = int(num_train_sequences/batch_size)\n",
    "else:\n",
    "    steps_per_epoch = (num_train_sequences//batch_size) + 1\n",
    "\n",
    "if (num_val_sequences%batch_size) == 0:\n",
    "    validation_steps = int(num_val_sequences/batch_size)\n",
    "else:\n",
    "    validation_steps = (num_val_sequences//batch_size) + 1\n",
    "    \n",
    "    \n",
    "print(\"Train Epoch value: \", steps_per_epoch)\n",
    "print(\"Val Epoch value: \", validation_steps)"
   ]
  },
  {
   "cell_type": "markdown",
   "metadata": {
    "id": "XglAet-QxOGg"
   },
   "source": [
    "Let us now fit the model. This will start training the model and with the help of the checkpoints, you'll be able to save the model at the end of each epoch."
   ]
  },
  {
   "cell_type": "code",
   "execution_count": 18,
   "metadata": {
    "colab": {
     "base_uri": "https://localhost:8080/"
    },
    "id": "3btjISDExOGg",
    "outputId": "7526098f-29e6-49e9-84c7-d050fafb2514"
   },
   "outputs": [
    {
     "name": "stdout",
     "output_type": "stream",
     "text": [
      "Source path =  /content/drive/My Drive/Colab Notebooks/Project_data/train ; batch size = 10\n"
     ]
    },
    {
     "name": "stderr",
     "output_type": "stream",
     "text": [
      "/usr/local/lib/python3.7/dist-packages/tensorflow/python/keras/engine/training.py:1844: UserWarning: `Model.fit_generator` is deprecated and will be removed in a future version. Please use `Model.fit`, which supports generators.\n",
      "  warnings.warn('`Model.fit_generator` is deprecated and '\n"
     ]
    },
    {
     "name": "stdout",
     "output_type": "stream",
     "text": [
      "Epoch 1/10\n",
      "67/67 [==============================] - ETA: 0s - loss: 182.6852 - categorical_accuracy: 0.3520 Source path =  /content/drive/My Drive/Colab Notebooks/Project_data/val ; batch size = 10\n",
      "67/67 [==============================] - 2883s 43s/step - loss: 181.5822 - categorical_accuracy: 0.3523 - val_loss: 106.4481 - val_categorical_accuracy: 0.2400\n",
      "\n",
      "Epoch 00001: val_loss improved from inf to 106.44807, saving model to model_init_2021-05-0214_52_47.962411/model-00001-107.67776-0.37761-106.44807-0.24000.h5\n",
      "Epoch 2/10\n",
      "67/67 [==============================] - 74s 1s/step - loss: 18.0534 - categorical_accuracy: 0.4102 - val_loss: 166.5200 - val_categorical_accuracy: 0.1400\n",
      "\n",
      "Epoch 00002: val_loss did not improve from 106.44807\n",
      "Epoch 3/10\n",
      "67/67 [==============================] - 72s 1s/step - loss: 6.7763 - categorical_accuracy: 0.4130 - val_loss: 56.4780 - val_categorical_accuracy: 0.2700\n",
      "\n",
      "Epoch 00003: val_loss improved from 106.44807 to 56.47799, saving model to model_init_2021-05-0214_52_47.962411/model-00003-6.74622-0.41194-56.47799-0.27000.h5\n",
      "Epoch 4/10\n",
      "67/67 [==============================] - 73s 1s/step - loss: 2.5322 - categorical_accuracy: 0.4424 - val_loss: 47.5114 - val_categorical_accuracy: 0.3500\n",
      "\n",
      "Epoch 00004: val_loss improved from 56.47799 to 47.51136, saving model to model_init_2021-05-0214_52_47.962411/model-00004-3.13238-0.41940-47.51136-0.35000.h5\n",
      "Epoch 5/10\n",
      "67/67 [==============================] - 72s 1s/step - loss: 3.2264 - categorical_accuracy: 0.3929 - val_loss: 47.9619 - val_categorical_accuracy: 0.3200\n",
      "\n",
      "Epoch 00005: val_loss did not improve from 47.51136\n",
      "Epoch 6/10\n",
      "67/67 [==============================] - 72s 1s/step - loss: 2.6896 - categorical_accuracy: 0.3687 - val_loss: 51.3680 - val_categorical_accuracy: 0.3100\n",
      "\n",
      "Epoch 00006: val_loss did not improve from 47.51136\n",
      "\n",
      "Epoch 00006: ReduceLROnPlateau reducing learning rate to 0.00010000000474974513.\n",
      "Epoch 7/10\n",
      "67/67 [==============================] - 72s 1s/step - loss: 2.2874 - categorical_accuracy: 0.4085 - val_loss: 52.3367 - val_categorical_accuracy: 0.3400\n",
      "\n",
      "Epoch 00007: val_loss did not improve from 47.51136\n",
      "Epoch 8/10\n",
      "67/67 [==============================] - 72s 1s/step - loss: 1.2881 - categorical_accuracy: 0.4497 - val_loss: 53.5901 - val_categorical_accuracy: 0.3300\n",
      "\n",
      "Epoch 00008: val_loss did not improve from 47.51136\n",
      "\n",
      "Epoch 00008: ReduceLROnPlateau reducing learning rate to 1.0000000474974514e-05.\n",
      "Epoch 9/10\n",
      "67/67 [==============================] - 72s 1s/step - loss: 1.1277 - categorical_accuracy: 0.4701 - val_loss: 51.3608 - val_categorical_accuracy: 0.3800\n",
      "\n",
      "Epoch 00009: val_loss did not improve from 47.51136\n",
      "Epoch 10/10\n",
      "67/67 [==============================] - 72s 1s/step - loss: 1.1655 - categorical_accuracy: 0.4623 - val_loss: 37.4838 - val_categorical_accuracy: 0.3300\n",
      "\n",
      "Epoch 00010: val_loss improved from 47.51136 to 37.48385, saving model to model_init_2021-05-0214_52_47.962411/model-00010-1.17856-0.47015-37.48385-0.33000.h5\n"
     ]
    }
   ],
   "source": [
    "history = model.fit_generator(train_generator, steps_per_epoch=steps_per_epoch, epochs=num_epochs, verbose=1, \n",
    "                    callbacks=callbacks_list, validation_data=val_generator, \n",
    "                    validation_steps=validation_steps, class_weight=None, workers=1, initial_epoch=0)"
   ]
  },
  {
   "cell_type": "code",
   "execution_count": 19,
   "metadata": {
    "id": "MfqJV_LWxOGg"
   },
   "outputs": [],
   "source": [
    "def plot(history):\n",
    "    fig, axes = plt.subplots(nrows=1, ncols=2, figsize=(15,4))\n",
    "    axes[0].plot(history.history['loss'])   \n",
    "    axes[0].plot(history.history['val_loss'])\n",
    "    axes[0].legend(['loss','val_loss'], loc='upper left')\n",
    "\n",
    "    axes[1].plot(history.history['categorical_accuracy'])   \n",
    "    axes[1].plot(history.history['val_categorical_accuracy'])\n",
    "    axes[1].legend(['categorical_accuracy','val_categorical_accuracy'], loc='upper left')"
   ]
  },
  {
   "cell_type": "code",
   "execution_count": 20,
   "metadata": {
    "colab": {
     "base_uri": "https://localhost:8080/",
     "height": 265
    },
    "id": "whR8amV9xOGh",
    "outputId": "fe1efc82-6c9c-41f5-cfdc-f5949ac0e8e4"
   },
   "outputs": [
    {
     "data": {
      "image/png": "[encoded data removed]",
      "text/plain": [
       "<Figure size 1080x288 with 2 Axes>"
      ]
     },
     "metadata": {
      "needs_background": "light",
      "tags": []
     },
     "output_type": "display_data"
    }
   ],
   "source": [
    "plot(history)"
   ]
  },
  {
   "cell_type": "code",
   "execution_count": 21,
   "metadata": {
    "id": "6O7gWUkUxOGh"
   },
   "outputs": [],
   "source": [
    "model_detail_df = pd.DataFrame()"
   ]
  },
  {
   "cell_type": "code",
   "execution_count": 22,
   "metadata": {
    "id": "fxjsvl9_xOGi"
   },
   "outputs": [],
   "source": [
    "def model_result(model_name ,accuracy, loss, val_accuracy, val_loss):\n",
    "    model_detail_dic = {\"Model Name\" : model_name,\n",
    "                   \"Model Accuracy\" : accuracy * 100,\n",
    "                   \"Model Loss\" : loss * 100 ,\n",
    "                   \"Val Accuracy\" : val_accuracy * 100,\n",
    "                   \"Val Loss\" : val_loss * 100}\n",
    "\n",
    "    df = pd.DataFrame([model_detail_dic])\n",
    "    return df\n",
    "    "
   ]
  },
  {
   "cell_type": "code",
   "execution_count": 23,
   "metadata": {
    "colab": {
     "base_uri": "https://localhost:8080/"
    },
    "id": "zcRWzNzIxOGi",
    "outputId": "fe43953b-6f48-4ef7-ef3f-f9e296d277c5"
   },
   "outputs": [
    {
     "name": "stdout",
     "output_type": "stream",
     "text": [
      "        Model Name  Model Accuracy  Model Loss  Val Accuracy     Val Loss\n",
      "0  Model_1_Vanilla       47.014925  117.855895     33.000001  3748.384857\n"
     ]
    }
   ],
   "source": [
    "df1 = model_result(\"Model_1_Vanilla\",history.history['categorical_accuracy'][-1], history.history['loss'][-1] , history.history['val_categorical_accuracy'][-1], history.history['val_loss'][-1])\n",
    "\n",
    "model_detail_df = pd.concat([model_detail_df,df1])\n",
    "print(model_detail_df.head(20))"
   ]
  },
  {
   "cell_type": "markdown",
   "metadata": {
    "id": "PWv8MXYtxOGl"
   },
   "source": [
    "# Model 2 : Reducing Filter (2,2,2) & Added few more Hyper Tuning Paramaters"
   ]
  },
  {
   "cell_type": "code",
   "execution_count": 28,
   "metadata": {
    "colab": {
     "base_uri": "https://localhost:8080/"
    },
    "id": "ywW_y4lMxOGl",
    "outputId": "ce2c21bc-2e9c-49e1-e5a4-545c3318268f"
   },
   "outputs": [
    {
     "name": "stdout",
     "output_type": "stream",
     "text": [
      "Model: \"sequential_1\"\n",
      "_________________________________________________________________\n",
      "Layer (type)                 Output Shape              Param #   \n",
      "=================================================================\n",
      "conv3d_3 (Conv3D)            (None, 20, 120, 120, 16)  1312      \n",
      "_________________________________________________________________\n",
      "batch_normalization_3 (Batch (None, 20, 120, 120, 16)  64        \n",
      "_________________________________________________________________\n",
      "max_pooling3d_2 (MaxPooling3 (None, 10, 60, 60, 16)    0         \n",
      "_________________________________________________________________\n",
      "conv3d_4 (Conv3D)            (None, 10, 60, 60, 32)    13856     \n",
      "_________________________________________________________________\n",
      "batch_normalization_4 (Batch (None, 10, 60, 60, 32)    128       \n",
      "_________________________________________________________________\n",
      "max_pooling3d_3 (MaxPooling3 (None, 5, 30, 30, 32)     0         \n",
      "_________________________________________________________________\n",
      "dropout (Dropout)            (None, 5, 30, 30, 32)     0         \n",
      "_________________________________________________________________\n",
      "conv3d_5 (Conv3D)            (None, 5, 30, 30, 64)     55360     \n",
      "_________________________________________________________________\n",
      "batch_normalization_5 (Batch (None, 5, 30, 30, 64)     256       \n",
      "_________________________________________________________________\n",
      "max_pooling3d_4 (MaxPooling3 (None, 2, 15, 15, 64)     0         \n",
      "_________________________________________________________________\n",
      "dropout_1 (Dropout)          (None, 2, 15, 15, 64)     0         \n",
      "_________________________________________________________________\n",
      "conv3d_6 (Conv3D)            (None, 2, 15, 15, 128)    221312    \n",
      "_________________________________________________________________\n",
      "batch_normalization_6 (Batch (None, 2, 15, 15, 128)    512       \n",
      "_________________________________________________________________\n",
      "max_pooling3d_5 (MaxPooling3 (None, 1, 7, 7, 128)      0         \n",
      "_________________________________________________________________\n",
      "flatten_1 (Flatten)          (None, 6272)              0         \n",
      "_________________________________________________________________\n",
      "dense_2 (Dense)              (None, 512)               3211776   \n",
      "_________________________________________________________________\n",
      "dropout_2 (Dropout)          (None, 512)               0         \n",
      "_________________________________________________________________\n",
      "dense_3 (Dense)              (None, 5)                 2565      \n",
      "=================================================================\n",
      "Total params: 3,507,141\n",
      "Trainable params: 3,506,661\n",
      "Non-trainable params: 480\n",
      "_________________________________________________________________\n",
      "None\n"
     ]
    }
   ],
   "source": [
    "#Let's try reducing the filter \n",
    "# Added Batch normalization to each layer\n",
    "\n",
    "model2 = Sequential()\n",
    "\n",
    "model2.add(Conv3D(16, kernel_size=(2,2,2), padding='same', activation='relu',input_shape = (20,120,120,3)))\n",
    "model2.add(BatchNormalization())\n",
    "model2.add(MaxPooling3D(pool_size=(2, 2, 2)))\n",
    "\n",
    "model2.add(Conv3D(32, kernel_size=(2,2,2), padding='same', activation='relu'))\n",
    "model2.add(BatchNormalization())\n",
    "model2.add(MaxPooling3D(pool_size=(2, 2, 2)))\n",
    "model2.add(Dropout(0.25))\n",
    "\n",
    "model2.add(Conv3D(64, kernel_size=(2,2,2), padding='same', activation='relu'))\n",
    "model2.add(BatchNormalization())\n",
    "model2.add(MaxPooling3D(pool_size=(2, 2, 2)))\n",
    "model2.add(Dropout(0.25))\n",
    "\n",
    "model2.add(Conv3D(128, kernel_size=(2,2,2), padding='same', activation='relu'))\n",
    "model2.add(BatchNormalization())\n",
    "model2.add(MaxPooling3D(pool_size=(2, 2, 2)))\n",
    "\n",
    "model2.add(Flatten())\n",
    "model2.add(Dense(512,kernel_regularizer=l2(0.01),activation='relu'))\n",
    "model2.add(Dropout(0.50))\n",
    "\n",
    "model2.add(Dense(5, activation = 'softmax'))\n",
    "\n",
    "optimiser = 'adam'\n",
    "model2.compile(optimizer=optimiser, loss='categorical_crossentropy', metrics=['categorical_accuracy'])\n",
    "print (model.summary())"
   ]
  },
  {
   "cell_type": "code",
   "execution_count": 29,
   "metadata": {
    "colab": {
     "base_uri": "https://localhost:8080/"
    },
    "id": "fvUATAKLxOGm",
    "outputId": "3ddf7674-e800-4888-fb16-9b4b88df84ba",
    "scrolled": false
   },
   "outputs": [
    {
     "name": "stderr",
     "output_type": "stream",
     "text": [
      "/usr/local/lib/python3.7/dist-packages/tensorflow/python/keras/engine/training.py:1844: UserWarning: `Model.fit_generator` is deprecated and will be removed in a future version. Please use `Model.fit`, which supports generators.\n",
      "  warnings.warn('`Model.fit_generator` is deprecated and '\n"
     ]
    },
    {
     "name": "stdout",
     "output_type": "stream",
     "text": [
      "Epoch 1/10\n",
      "67/67 [==============================] - 62s 916ms/step - loss: 18.9728 - categorical_accuracy: 0.3116 - val_loss: 15.0976 - val_categorical_accuracy: 0.2400\n",
      "\n",
      "Epoch 00001: val_loss did not improve from 9.97995\n",
      "Epoch 2/10\n",
      "67/67 [==============================] - 61s 918ms/step - loss: 7.5402 - categorical_accuracy: 0.5877 - val_loss: 17.9368 - val_categorical_accuracy: 0.2000\n",
      "\n",
      "Epoch 00002: val_loss did not improve from 9.97995\n",
      "Epoch 3/10\n",
      "67/67 [==============================] - 60s 909ms/step - loss: 5.9150 - categorical_accuracy: 0.6981 - val_loss: 12.2393 - val_categorical_accuracy: 0.2200\n",
      "\n",
      "Epoch 00003: val_loss did not improve from 9.97995\n",
      "Epoch 4/10\n",
      "67/67 [==============================] - 61s 915ms/step - loss: 4.6821 - categorical_accuracy: 0.7496 - val_loss: 11.7280 - val_categorical_accuracy: 0.2600\n",
      "\n",
      "Epoch 00004: val_loss did not improve from 9.97995\n",
      "Epoch 5/10\n",
      "67/67 [==============================] - 60s 911ms/step - loss: 3.7797 - categorical_accuracy: 0.8151 - val_loss: 11.4213 - val_categorical_accuracy: 0.3800\n",
      "\n",
      "Epoch 00005: val_loss did not improve from 9.97995\n",
      "Epoch 6/10\n",
      "67/67 [==============================] - 61s 921ms/step - loss: 3.3110 - categorical_accuracy: 0.8140 - val_loss: 7.1068 - val_categorical_accuracy: 0.3900\n",
      "\n",
      "Epoch 00006: val_loss improved from 9.97995 to 7.10677, saving model to model_init_2021-05-0214_52_47.962411/model-00006-3.24575-0.81493-7.10677-0.39000.h5\n",
      "Epoch 7/10\n",
      "67/67 [==============================] - 60s 912ms/step - loss: 2.9761 - categorical_accuracy: 0.8135 - val_loss: 5.3708 - val_categorical_accuracy: 0.4000\n",
      "\n",
      "Epoch 00007: val_loss improved from 7.10677 to 5.37076, saving model to model_init_2021-05-0214_52_47.962411/model-00007-2.88504-0.83134-5.37076-0.40000.h5\n",
      "Epoch 8/10\n",
      "67/67 [==============================] - 61s 915ms/step - loss: 2.5206 - categorical_accuracy: 0.8478 - val_loss: 6.5800 - val_categorical_accuracy: 0.3200\n",
      "\n",
      "Epoch 00008: val_loss did not improve from 5.37076\n",
      "Epoch 9/10\n",
      "67/67 [==============================] - 60s 914ms/step - loss: 2.2806 - categorical_accuracy: 0.8609 - val_loss: 4.3445 - val_categorical_accuracy: 0.4700\n",
      "\n",
      "Epoch 00009: val_loss improved from 5.37076 to 4.34450, saving model to model_init_2021-05-0214_52_47.962411/model-00009-2.27686-0.86269-4.34450-0.47000.h5\n",
      "Epoch 10/10\n",
      "67/67 [==============================] - 60s 910ms/step - loss: 1.9445 - categorical_accuracy: 0.9066 - val_loss: 3.7924 - val_categorical_accuracy: 0.4300\n",
      "\n",
      "Epoch 00010: val_loss improved from 4.34450 to 3.79239, saving model to model_init_2021-05-0214_52_47.962411/model-00010-1.88984-0.91194-3.79239-0.43000.h5\n"
     ]
    }
   ],
   "source": [
    "history = model2.fit_generator(train_generator, steps_per_epoch=steps_per_epoch, epochs=num_epochs, verbose=1, \n",
    "                    callbacks=callbacks_list, validation_data=val_generator, \n",
    "                    validation_steps=validation_steps, class_weight=None, workers=1, initial_epoch=0)"
   ]
  },
  {
   "cell_type": "code",
   "execution_count": 30,
   "metadata": {
    "colab": {
     "base_uri": "https://localhost:8080/",
     "height": 265
    },
    "id": "hTY7aCV2xOGm",
    "outputId": "545b38c7-5e33-4dfb-b320-6179768fba62"
   },
   "outputs": [
    {
     "data": {
      "image/png": "[encoded data removed]",
      "text/plain": [
       "<Figure size 1080x288 with 2 Axes>"
      ]
     },
     "metadata": {
      "needs_background": "light",
      "tags": []
     },
     "output_type": "display_data"
    }
   ],
   "source": [
    "plot(history)"
   ]
  },
  {
   "cell_type": "code",
   "execution_count": 31,
   "metadata": {
    "colab": {
     "base_uri": "https://localhost:8080/"
    },
    "id": "UgBgTPKPxOGm",
    "outputId": "bfd23248-e1d6-4d0b-b86c-ae229e178e84"
   },
   "outputs": [
    {
     "name": "stdout",
     "output_type": "stream",
     "text": [
      "        Model Name  Model Accuracy  Model Loss  Val Accuracy     Val Loss\n",
      "0  Model_1_Vanilla       47.014925  117.855895     33.000001  3748.384857\n",
      "0      Model_3_SGD       69.402987  951.683807     47.000000  1007.729626\n",
      "0   Model_2_Tuning       91.194028  188.983715     43.000001   379.239225\n"
     ]
    }
   ],
   "source": [
    "df1 = model_result(\"Model_2_Tuning\",history.history['categorical_accuracy'][-1], history.history['loss'][-1] , history.history['val_categorical_accuracy'][-1], history.history['val_loss'][-1])\n",
    "\n",
    "model_detail_df = pd.concat([model_detail_df,df1])\n",
    "print(model_detail_df.head(20))"
   ]
  },
  {
   "cell_type": "markdown",
   "metadata": {
    "id": "D3_yqhZlxOGj"
   },
   "source": [
    "#  Model 3: changing optimizer to \"SGD\" & Added L2 Regularization"
   ]
  },
  {
   "cell_type": "code",
   "execution_count": 24,
   "metadata": {
    "colab": {
     "base_uri": "https://localhost:8080/"
    },
    "id": "luj2BHxwxOGj",
    "outputId": "550b81ba-7c94-46e4-f272-634f9f209210",
    "scrolled": true
   },
   "outputs": [
    {
     "name": "stdout",
     "output_type": "stream",
     "text": [
      "Model: \"sequential_1\"\n",
      "_________________________________________________________________\n",
      "Layer (type)                 Output Shape              Param #   \n",
      "=================================================================\n",
      "conv3d_3 (Conv3D)            (None, 20, 120, 120, 16)  1312      \n",
      "_________________________________________________________________\n",
      "batch_normalization_3 (Batch (None, 20, 120, 120, 16)  64        \n",
      "_________________________________________________________________\n",
      "max_pooling3d_2 (MaxPooling3 (None, 10, 60, 60, 16)    0         \n",
      "_________________________________________________________________\n",
      "conv3d_4 (Conv3D)            (None, 10, 60, 60, 32)    13856     \n",
      "_________________________________________________________________\n",
      "batch_normalization_4 (Batch (None, 10, 60, 60, 32)    128       \n",
      "_________________________________________________________________\n",
      "max_pooling3d_3 (MaxPooling3 (None, 5, 30, 30, 32)     0         \n",
      "_________________________________________________________________\n",
      "dropout (Dropout)            (None, 5, 30, 30, 32)     0         \n",
      "_________________________________________________________________\n",
      "conv3d_5 (Conv3D)            (None, 5, 30, 30, 64)     55360     \n",
      "_________________________________________________________________\n",
      "batch_normalization_5 (Batch (None, 5, 30, 30, 64)     256       \n",
      "_________________________________________________________________\n",
      "max_pooling3d_4 (MaxPooling3 (None, 2, 15, 15, 64)     0         \n",
      "_________________________________________________________________\n",
      "dropout_1 (Dropout)          (None, 2, 15, 15, 64)     0         \n",
      "_________________________________________________________________\n",
      "conv3d_6 (Conv3D)            (None, 2, 15, 15, 128)    221312    \n",
      "_________________________________________________________________\n",
      "batch_normalization_6 (Batch (None, 2, 15, 15, 128)    512       \n",
      "_________________________________________________________________\n",
      "max_pooling3d_5 (MaxPooling3 (None, 1, 7, 7, 128)      0         \n",
      "_________________________________________________________________\n",
      "flatten_1 (Flatten)          (None, 6272)              0         \n",
      "_________________________________________________________________\n",
      "dense_2 (Dense)              (None, 512)               3211776   \n",
      "_________________________________________________________________\n",
      "dropout_2 (Dropout)          (None, 512)               0         \n",
      "_________________________________________________________________\n",
      "dense_3 (Dense)              (None, 5)                 2565      \n",
      "=================================================================\n",
      "Total params: 3,507,141\n",
      "Trainable params: 3,506,661\n",
      "Non-trainable params: 480\n",
      "_________________________________________________________________\n",
      "None\n"
     ]
    }
   ],
   "source": [
    "#Let's try 'sgd' as optimizer on same architecture with 10 epochs\n",
    "\n",
    "model = Sequential()\n",
    "\n",
    "\n",
    "model.add(Conv3D(16, kernel_size=(3,3,3), padding='same', activation='relu',input_shape = (20,120,120,3)))\n",
    "model.add(BatchNormalization())\n",
    "model.add(MaxPooling3D(pool_size=(2, 2, 2)))\n",
    "\n",
    "model.add(Conv3D(32, kernel_size=(3,3,3), padding='same', activation='relu'))\n",
    "model.add(BatchNormalization())\n",
    "model.add(MaxPooling3D(pool_size=(2, 2, 2)))\n",
    "model.add(Dropout(0.25))\n",
    "\n",
    "model.add(Conv3D(64, kernel_size=(3,3,3), padding='same', activation='relu'))\n",
    "model.add(BatchNormalization())\n",
    "model.add(MaxPooling3D(pool_size=(2, 2, 2)))\n",
    "model.add(Dropout(0.25))\n",
    "\n",
    "model.add(Conv3D(128, kernel_size=(3,3,3), padding='same', activation='relu'))\n",
    "model.add(BatchNormalization())\n",
    "model.add(MaxPooling3D(pool_size=(2, 2, 2)))\n",
    "\n",
    "model.add(Flatten())\n",
    "model.add(Dense(512,kernel_regularizer=l2(0.01),activation='relu'))\n",
    "model.add(Dropout(0.50))\n",
    "\n",
    "\n",
    "\n",
    "model.add(Dense(5, activation = 'softmax'))\n",
    "\n",
    "optimiser = 'sgd'\n",
    "model.compile(optimizer=optimiser, loss='categorical_crossentropy', metrics=['categorical_accuracy'])\n",
    "print (model.summary())"
   ]
  },
  {
   "cell_type": "code",
   "execution_count": 25,
   "metadata": {
    "colab": {
     "base_uri": "https://localhost:8080/"
    },
    "id": "I-GotMczxOGk",
    "outputId": "6ca65b9e-c8c7-4a4b-8a99-a996d0eb0242"
   },
   "outputs": [
    {
     "name": "stderr",
     "output_type": "stream",
     "text": [
      "/usr/local/lib/python3.7/dist-packages/tensorflow/python/keras/engine/training.py:1844: UserWarning: `Model.fit_generator` is deprecated and will be removed in a future version. Please use `Model.fit`, which supports generators.\n",
      "  warnings.warn('`Model.fit_generator` is deprecated and '\n"
     ]
    },
    {
     "name": "stdout",
     "output_type": "stream",
     "text": [
      "Epoch 1/10\n",
      "67/67 [==============================] - 63s 919ms/step - loss: 14.7493 - categorical_accuracy: 0.2619 - val_loss: 10.7107 - val_categorical_accuracy: 0.3600\n",
      "\n",
      "Epoch 00001: val_loss improved from 37.48385 to 10.71067, saving model to model_init_2021-05-0214_52_47.962411/model-00001-12.41930-0.33582-10.71067-0.36000.h5\n",
      "Epoch 2/10\n",
      "67/67 [==============================] - 61s 924ms/step - loss: 10.4166 - categorical_accuracy: 0.5446 - val_loss: 12.0132 - val_categorical_accuracy: 0.2300\n",
      "\n",
      "Epoch 00002: val_loss did not improve from 10.71067\n",
      "Epoch 3/10\n",
      "67/67 [==============================] - 60s 912ms/step - loss: 10.1200 - categorical_accuracy: 0.5630 - val_loss: 11.7848 - val_categorical_accuracy: 0.3100\n",
      "\n",
      "Epoch 00003: val_loss did not improve from 10.71067\n",
      "\n",
      "Epoch 00003: ReduceLROnPlateau reducing learning rate to 0.0009999999776482583.\n",
      "Epoch 4/10\n",
      "67/67 [==============================] - 61s 921ms/step - loss: 9.7004 - categorical_accuracy: 0.6473 - val_loss: 11.3632 - val_categorical_accuracy: 0.3100\n",
      "\n",
      "Epoch 00004: val_loss did not improve from 10.71067\n",
      "Epoch 5/10\n",
      "67/67 [==============================] - 61s 920ms/step - loss: 9.5416 - categorical_accuracy: 0.7032 - val_loss: 11.0259 - val_categorical_accuracy: 0.2300\n",
      "\n",
      "Epoch 00005: val_loss did not improve from 10.71067\n",
      "\n",
      "Epoch 00005: ReduceLROnPlateau reducing learning rate to 9.999999310821295e-05.\n",
      "Epoch 6/10\n",
      "67/67 [==============================] - 61s 928ms/step - loss: 9.5001 - categorical_accuracy: 0.7357 - val_loss: 10.3038 - val_categorical_accuracy: 0.4500\n",
      "\n",
      "Epoch 00006: val_loss improved from 10.71067 to 10.30381, saving model to model_init_2021-05-0214_52_47.962411/model-00006-9.52847-0.71343-10.30381-0.45000.h5\n",
      "Epoch 7/10\n",
      "67/67 [==============================] - 60s 911ms/step - loss: 9.5413 - categorical_accuracy: 0.6970 - val_loss: 10.4109 - val_categorical_accuracy: 0.3800\n",
      "\n",
      "Epoch 00007: val_loss did not improve from 10.30381\n",
      "Epoch 8/10\n",
      "67/67 [==============================] - 61s 925ms/step - loss: 9.4541 - categorical_accuracy: 0.7292 - val_loss: 10.0383 - val_categorical_accuracy: 0.5100\n",
      "\n",
      "Epoch 00008: val_loss improved from 10.30381 to 10.03826, saving model to model_init_2021-05-0214_52_47.962411/model-00008-9.48149-0.72388-10.03826-0.51000.h5\n",
      "Epoch 9/10\n",
      "67/67 [==============================] - 61s 927ms/step - loss: 9.4839 - categorical_accuracy: 0.7186 - val_loss: 9.9800 - val_categorical_accuracy: 0.4900\n",
      "\n",
      "Epoch 00009: val_loss improved from 10.03826 to 9.97995, saving model to model_init_2021-05-0214_52_47.962411/model-00009-9.49638-0.72537-9.97995-0.49000.h5\n",
      "Epoch 10/10\n",
      "67/67 [==============================] - 61s 914ms/step - loss: 9.4790 - categorical_accuracy: 0.7139 - val_loss: 10.0773 - val_categorical_accuracy: 0.4700\n",
      "\n",
      "Epoch 00010: val_loss did not improve from 9.97995\n"
     ]
    }
   ],
   "source": [
    "history = model.fit_generator(train_generator, steps_per_epoch=steps_per_epoch, epochs=num_epochs, verbose=1, \n",
    "                    callbacks=callbacks_list, validation_data=val_generator, \n",
    "                    validation_steps=validation_steps, class_weight=None, workers=1, initial_epoch=0)"
   ]
  },
  {
   "cell_type": "code",
   "execution_count": 26,
   "metadata": {
    "colab": {
     "base_uri": "https://localhost:8080/",
     "height": 265
    },
    "id": "IQ3gvX_AxOGk",
    "outputId": "9aadb6e7-4af6-4d49-a8ab-a845ac686a27"
   },
   "outputs": [
    {
     "data": {
      "image/png": "[encoded data removed]",
      "text/plain": [
       "<Figure size 1080x288 with 2 Axes>"
      ]
     },
     "metadata": {
      "needs_background": "light",
      "tags": []
     },
     "output_type": "display_data"
    }
   ],
   "source": [
    "plot(history)"
   ]
  },
  {
   "cell_type": "code",
   "execution_count": 27,
   "metadata": {
    "colab": {
     "base_uri": "https://localhost:8080/"
    },
    "id": "-yhM9lBCxOGk",
    "outputId": "285894f5-ce6a-4691-8de3-4d7458908b3a"
   },
   "outputs": [
    {
     "name": "stdout",
     "output_type": "stream",
     "text": [
      "        Model Name  Model Accuracy  Model Loss  Val Accuracy     Val Loss\n",
      "0  Model_1_Vanilla       47.014925  117.855895     33.000001  3748.384857\n",
      "0      Model_3_SGD       69.402987  951.683807     47.000000  1007.729626\n"
     ]
    }
   ],
   "source": [
    "df1 = model_result(\"Model_3_SGD\",history.history['categorical_accuracy'][-1], history.history['loss'][-1] , history.history['val_categorical_accuracy'][-1], history.history['val_loss'][-1])\n",
    "\n",
    "model_detail_df = pd.concat([model_detail_df,df1])\n",
    "print(model_detail_df.head(20))"
   ]
  },
  {
   "cell_type": "markdown",
   "metadata": {
    "id": "6qeBuvtAxOGn"
   },
   "source": [
    "# Model 4 : Adding more Conv Layer"
   ]
  },
  {
   "cell_type": "code",
   "execution_count": 32,
   "metadata": {
    "colab": {
     "base_uri": "https://localhost:8080/"
    },
    "id": "TvZZn81ixOGn",
    "outputId": "d11fcff9-3c11-4e0c-e910-66ef656a5526"
   },
   "outputs": [
    {
     "name": "stdout",
     "output_type": "stream",
     "text": [
      "Model: \"sequential_3\"\n",
      "_________________________________________________________________\n",
      "Layer (type)                 Output Shape              Param #   \n",
      "=================================================================\n",
      "conv3d_11 (Conv3D)           (None, 20, 120, 120, 16)  1312      \n",
      "_________________________________________________________________\n",
      "batch_normalization_11 (Batc (None, 20, 120, 120, 16)  64        \n",
      "_________________________________________________________________\n",
      "max_pooling3d_10 (MaxPooling (None, 10, 60, 60, 16)    0         \n",
      "_________________________________________________________________\n",
      "conv3d_12 (Conv3D)           (None, 10, 60, 60, 32)    13856     \n",
      "_________________________________________________________________\n",
      "batch_normalization_12 (Batc (None, 10, 60, 60, 32)    128       \n",
      "_________________________________________________________________\n",
      "conv3d_13 (Conv3D)           (None, 10, 60, 60, 32)    27680     \n",
      "_________________________________________________________________\n",
      "batch_normalization_13 (Batc (None, 10, 60, 60, 32)    128       \n",
      "_________________________________________________________________\n",
      "max_pooling3d_11 (MaxPooling (None, 5, 30, 30, 32)     0         \n",
      "_________________________________________________________________\n",
      "conv3d_14 (Conv3D)           (None, 5, 30, 30, 64)     55360     \n",
      "_________________________________________________________________\n",
      "batch_normalization_14 (Batc (None, 5, 30, 30, 64)     256       \n",
      "_________________________________________________________________\n",
      "conv3d_15 (Conv3D)           (None, 5, 30, 30, 64)     110656    \n",
      "_________________________________________________________________\n",
      "batch_normalization_15 (Batc (None, 5, 30, 30, 64)     256       \n",
      "_________________________________________________________________\n",
      "max_pooling3d_12 (MaxPooling (None, 2, 15, 15, 64)     0         \n",
      "_________________________________________________________________\n",
      "conv3d_16 (Conv3D)           (None, 2, 15, 15, 128)    221312    \n",
      "_________________________________________________________________\n",
      "batch_normalization_16 (Batc (None, 2, 15, 15, 128)    512       \n",
      "_________________________________________________________________\n",
      "conv3d_17 (Conv3D)           (None, 2, 15, 15, 128)    442496    \n",
      "_________________________________________________________________\n",
      "batch_normalization_17 (Batc (None, 2, 15, 15, 128)    512       \n",
      "_________________________________________________________________\n",
      "max_pooling3d_13 (MaxPooling (None, 1, 7, 7, 128)      0         \n",
      "_________________________________________________________________\n",
      "flatten_3 (Flatten)          (None, 6272)              0         \n",
      "_________________________________________________________________\n",
      "dense_6 (Dense)              (None, 256)               1605888   \n",
      "_________________________________________________________________\n",
      "dropout_6 (Dropout)          (None, 256)               0         \n",
      "_________________________________________________________________\n",
      "dense_7 (Dense)              (None, 5)                 1285      \n",
      "=================================================================\n",
      "Total params: 2,481,701\n",
      "Trainable params: 2,480,773\n",
      "Non-trainable params: 928\n",
      "_________________________________________________________________\n",
      "None\n"
     ]
    }
   ],
   "source": [
    "# Adding more layer to the architecture \n",
    "\n",
    "model = Sequential()\n",
    "\n",
    "\n",
    "model.add(Conv3D(16, kernel_size=(3,3,3), padding='same', activation='relu',input_shape = (20,120,120,3)))\n",
    "model.add(BatchNormalization())\n",
    "\n",
    "model.add(MaxPooling3D(pool_size=(2, 2, 2)))\n",
    "## h1,2\n",
    "model.add(Conv3D(32, kernel_size=(3,3,3), padding='same', activation='relu'))\n",
    "model.add(BatchNormalization())\n",
    "\n",
    "model.add(Conv3D(32, kernel_size=(3,3,3), padding='same', activation='relu'))\n",
    "model.add(BatchNormalization())\n",
    "\n",
    "model.add(MaxPooling3D(pool_size=(2, 2, 2)))\n",
    "\n",
    "## h3,4\n",
    "model.add(Conv3D(64, kernel_size=(3,3,3), padding='same', activation='relu'))\n",
    "model.add(BatchNormalization())\n",
    "\n",
    "\n",
    "model.add(Conv3D(64, kernel_size=(3,3,3), padding='same', activation='relu'))\n",
    "model.add(BatchNormalization())\n",
    "\n",
    "model.add(MaxPooling3D(pool_size=(2, 2, 2)))\n",
    "\n",
    "## h5,6\n",
    "model.add(Conv3D(128, kernel_size=(3,3,3), padding='same', activation='relu'))\n",
    "model.add(BatchNormalization())\n",
    "\n",
    "model.add(Conv3D(128, kernel_size=(3,3,3), padding='same', activation='relu'))\n",
    "model.add(BatchNormalization())\n",
    "\n",
    "model.add(MaxPooling3D(pool_size=(2, 2, 2)))\n",
    "\n",
    "model.add(Flatten())\n",
    "model.add(Dense(256,kernel_regularizer=l2(0.01),activation='relu'))\n",
    "model.add(Dropout(0.50))\n",
    "\n",
    "model.add(Dense(5, activation = 'softmax'))\n",
    "\n",
    "optimiser = 'sgd'\n",
    "model.compile(optimizer=optimiser, loss='categorical_crossentropy', metrics=['categorical_accuracy'])\n",
    "print (model.summary())"
   ]
  },
  {
   "cell_type": "code",
   "execution_count": 33,
   "metadata": {
    "colab": {
     "base_uri": "https://localhost:8080/"
    },
    "id": "gs8TY7m_xOGn",
    "outputId": "0aef5bb4-ffe8-40f6-81fa-f7e5bcb9f255"
   },
   "outputs": [
    {
     "name": "stderr",
     "output_type": "stream",
     "text": [
      "/usr/local/lib/python3.7/dist-packages/tensorflow/python/keras/engine/training.py:1844: UserWarning: `Model.fit_generator` is deprecated and will be removed in a future version. Please use `Model.fit`, which supports generators.\n",
      "  warnings.warn('`Model.fit_generator` is deprecated and '\n"
     ]
    },
    {
     "name": "stdout",
     "output_type": "stream",
     "text": [
      "Epoch 1/10\n",
      "67/67 [==============================] - 64s 935ms/step - loss: 11.3232 - categorical_accuracy: 0.2439 - val_loss: 8.2492 - val_categorical_accuracy: 0.2400\n",
      "\n",
      "Epoch 00001: val_loss did not improve from 3.79239\n",
      "Epoch 2/10\n",
      "67/67 [==============================] - 62s 938ms/step - loss: 6.1757 - categorical_accuracy: 0.4322 - val_loss: 6.5503 - val_categorical_accuracy: 0.3000\n",
      "\n",
      "Epoch 00002: val_loss did not improve from 3.79239\n",
      "Epoch 3/10\n",
      "67/67 [==============================] - 62s 933ms/step - loss: 5.8021 - categorical_accuracy: 0.5709 - val_loss: 6.7009 - val_categorical_accuracy: 0.3300\n",
      "\n",
      "Epoch 00003: val_loss did not improve from 3.79239\n",
      "Epoch 4/10\n",
      "67/67 [==============================] - 62s 935ms/step - loss: 5.5681 - categorical_accuracy: 0.6193 - val_loss: 5.7429 - val_categorical_accuracy: 0.4500\n",
      "\n",
      "Epoch 00004: val_loss did not improve from 3.79239\n",
      "Epoch 5/10\n",
      "67/67 [==============================] - 62s 940ms/step - loss: 5.3893 - categorical_accuracy: 0.6330 - val_loss: 5.7442 - val_categorical_accuracy: 0.4800\n",
      "\n",
      "Epoch 00005: val_loss did not improve from 3.79239\n",
      "Epoch 6/10\n",
      "67/67 [==============================] - 61s 919ms/step - loss: 5.1891 - categorical_accuracy: 0.6862 - val_loss: 5.5179 - val_categorical_accuracy: 0.6200\n",
      "\n",
      "Epoch 00006: val_loss did not improve from 3.79239\n",
      "Epoch 7/10\n",
      "67/67 [==============================] - 62s 934ms/step - loss: 4.9312 - categorical_accuracy: 0.7230 - val_loss: 5.9592 - val_categorical_accuracy: 0.4500\n",
      "\n",
      "Epoch 00007: val_loss did not improve from 3.79239\n",
      "Epoch 8/10\n",
      "67/67 [==============================] - 62s 936ms/step - loss: 4.7648 - categorical_accuracy: 0.7700 - val_loss: 5.4244 - val_categorical_accuracy: 0.5600\n",
      "\n",
      "Epoch 00008: val_loss did not improve from 3.79239\n",
      "Epoch 9/10\n",
      "67/67 [==============================] - 61s 917ms/step - loss: 4.6801 - categorical_accuracy: 0.7491 - val_loss: 5.0144 - val_categorical_accuracy: 0.6200\n",
      "\n",
      "Epoch 00009: val_loss did not improve from 3.79239\n",
      "Epoch 10/10\n",
      "67/67 [==============================] - 62s 936ms/step - loss: 4.4047 - categorical_accuracy: 0.8302 - val_loss: 5.4174 - val_categorical_accuracy: 0.5200\n",
      "\n",
      "Epoch 00010: val_loss did not improve from 3.79239\n"
     ]
    }
   ],
   "source": [
    "\n",
    "history = model.fit_generator(train_generator, steps_per_epoch=steps_per_epoch, epochs=num_epochs, verbose=1, \n",
    "                    callbacks=callbacks_list, validation_data=val_generator, \n",
    "                    validation_steps=validation_steps, class_weight=None, workers=1, initial_epoch=0)"
   ]
  },
  {
   "cell_type": "code",
   "execution_count": 34,
   "metadata": {
    "colab": {
     "base_uri": "https://localhost:8080/",
     "height": 265
    },
    "id": "0oDcq3cwxOGo",
    "outputId": "84cc93ee-8875-43da-cf2f-204ec28ea852"
   },
   "outputs": [
    {
     "data": {
      "image/png": "[encoded data removed]",
      "text/plain": [
       "<Figure size 1080x288 with 2 Axes>"
      ]
     },
     "metadata": {
      "needs_background": "light",
      "tags": []
     },
     "output_type": "display_data"
    }
   ],
   "source": [
    "plot(history)"
   ]
  },
  {
   "cell_type": "code",
   "execution_count": 35,
   "metadata": {
    "colab": {
     "base_uri": "https://localhost:8080/"
    },
    "id": "7JOqry-TxOGo",
    "outputId": "26b7c17a-fe7b-42e6-e098-182a7932d362"
   },
   "outputs": [
    {
     "name": "stdout",
     "output_type": "stream",
     "text": [
      "        Model Name  Model Accuracy  Model Loss  Val Accuracy     Val Loss\n",
      "0  Model_1_Vanilla       47.014925  117.855895     33.000001  3748.384857\n",
      "0      Model_3_SGD       69.402987  951.683807     47.000000  1007.729626\n",
      "0   Model_2_Tuning       91.194028  188.983715     43.000001   379.239225\n",
      "0   Model_2_Add_HL       81.492537  442.510700     51.999998   541.738272\n"
     ]
    }
   ],
   "source": [
    "df1 = model_result(\"Model_2_Add_HL\",history.history['categorical_accuracy'][-1], history.history['loss'][-1] , history.history['val_categorical_accuracy'][-1], history.history['val_loss'][-1])\n",
    "\n",
    "model_detail_df = pd.concat([model_detail_df,df1])\n",
    "print(model_detail_df.head(20))"
   ]
  },
  {
   "cell_type": "markdown",
   "metadata": {
    "id": "fmlDbLy__Nr7"
   },
   "source": [
    "# Model 5 : Adding one more dense layer with filter size (2,2,2)"
   ]
  },
  {
   "cell_type": "code",
   "execution_count": 36,
   "metadata": {
    "colab": {
     "base_uri": "https://localhost:8080/"
    },
    "id": "6vQFj2nvAKg7",
    "outputId": "d5bf71c0-3d3e-4a6f-887c-564d5f3c2778"
   },
   "outputs": [
    {
     "name": "stdout",
     "output_type": "stream",
     "text": [
      "Model: \"sequential_4\"\n",
      "_________________________________________________________________\n",
      "Layer (type)                 Output Shape              Param #   \n",
      "=================================================================\n",
      "conv3d_18 (Conv3D)           (None, 20, 120, 120, 16)  400       \n",
      "_________________________________________________________________\n",
      "batch_normalization_18 (Batc (None, 20, 120, 120, 16)  64        \n",
      "_________________________________________________________________\n",
      "max_pooling3d_14 (MaxPooling (None, 10, 60, 60, 16)    0         \n",
      "_________________________________________________________________\n",
      "conv3d_19 (Conv3D)           (None, 10, 60, 60, 32)    4128      \n",
      "_________________________________________________________________\n",
      "batch_normalization_19 (Batc (None, 10, 60, 60, 32)    128       \n",
      "_________________________________________________________________\n",
      "max_pooling3d_15 (MaxPooling (None, 5, 30, 30, 32)     0         \n",
      "_________________________________________________________________\n",
      "dropout_7 (Dropout)          (None, 5, 30, 30, 32)     0         \n",
      "_________________________________________________________________\n",
      "conv3d_20 (Conv3D)           (None, 5, 30, 30, 64)     16448     \n",
      "_________________________________________________________________\n",
      "batch_normalization_20 (Batc (None, 5, 30, 30, 64)     256       \n",
      "_________________________________________________________________\n",
      "max_pooling3d_16 (MaxPooling (None, 2, 15, 15, 64)     0         \n",
      "_________________________________________________________________\n",
      "dropout_8 (Dropout)          (None, 2, 15, 15, 64)     0         \n",
      "_________________________________________________________________\n",
      "conv3d_21 (Conv3D)           (None, 2, 15, 15, 128)    65664     \n",
      "_________________________________________________________________\n",
      "batch_normalization_21 (Batc (None, 2, 15, 15, 128)    512       \n",
      "_________________________________________________________________\n",
      "max_pooling3d_17 (MaxPooling (None, 1, 7, 7, 128)      0         \n",
      "_________________________________________________________________\n",
      "flatten_4 (Flatten)          (None, 6272)              0         \n",
      "_________________________________________________________________\n",
      "dense_8 (Dense)              (None, 256)               1605888   \n",
      "_________________________________________________________________\n",
      "dropout_9 (Dropout)          (None, 256)               0         \n",
      "_________________________________________________________________\n",
      "dense_9 (Dense)              (None, 512)               131584    \n",
      "_________________________________________________________________\n",
      "dropout_10 (Dropout)         (None, 512)               0         \n",
      "_________________________________________________________________\n",
      "dense_10 (Dense)             (None, 5)                 2565      \n",
      "=================================================================\n",
      "Total params: 1,827,637\n",
      "Trainable params: 1,827,157\n",
      "Non-trainable params: 480\n",
      "_________________________________________________________________\n",
      "None\n"
     ]
    }
   ],
   "source": [
    "#Let's try reducing the filter \n",
    "# Added Batch normalization to each layer\n",
    "#\n",
    "\n",
    "model = Sequential()\n",
    "\n",
    "model.add(Conv3D(16, kernel_size=(2,2,2), padding='same', activation='relu',input_shape = (20,120,120,3)))\n",
    "model.add(BatchNormalization())\n",
    "model.add(MaxPooling3D(pool_size=(2, 2, 2)))\n",
    "\n",
    "model.add(Conv3D(32, kernel_size=(2,2,2), padding='same', activation='relu'))\n",
    "model.add(BatchNormalization())\n",
    "model.add(MaxPooling3D(pool_size=(2, 2, 2)))\n",
    "model.add(Dropout(0.25))\n",
    "\n",
    "model.add(Conv3D(64, kernel_size=(2,2,2), padding='same', activation='relu'))\n",
    "model.add(BatchNormalization())\n",
    "model.add(MaxPooling3D(pool_size=(2, 2, 2)))\n",
    "model.add(Dropout(0.25))\n",
    "\n",
    "model.add(Conv3D(128, kernel_size=(2,2,2), padding='same', activation='relu'))\n",
    "model.add(BatchNormalization())\n",
    "model.add(MaxPooling3D(pool_size=(2, 2, 2)))\n",
    "\n",
    "\n",
    "model.add(Flatten())\n",
    "model.add(Dense(256,kernel_regularizer=l2(0.01),activation='relu'))\n",
    "model.add(Dropout(0.50))\n",
    "model.add(Dense(512,kernel_regularizer=l2(0.01),activation='relu'))\n",
    "model.add(Dropout(0.50))\n",
    "\n",
    "model.add(Dense(5, activation = 'softmax'))\n",
    "\n",
    "optimiser = 'adam'\n",
    "model.compile(optimizer=optimiser, loss='categorical_crossentropy', metrics=['categorical_accuracy'])\n",
    "print (model.summary())"
   ]
  },
  {
   "cell_type": "code",
   "execution_count": 37,
   "metadata": {
    "colab": {
     "base_uri": "https://localhost:8080/"
    },
    "id": "34ourAIAEZi-",
    "outputId": "e4c3be2f-726e-4c8e-9640-ca7c4856608a"
   },
   "outputs": [
    {
     "name": "stderr",
     "output_type": "stream",
     "text": [
      "/usr/local/lib/python3.7/dist-packages/tensorflow/python/keras/engine/training.py:1844: UserWarning: `Model.fit_generator` is deprecated and will be removed in a future version. Please use `Model.fit`, which supports generators.\n",
      "  warnings.warn('`Model.fit_generator` is deprecated and '\n"
     ]
    },
    {
     "name": "stdout",
     "output_type": "stream",
     "text": [
      "Epoch 1/10\n",
      "67/67 [==============================] - 62s 918ms/step - loss: 13.9686 - categorical_accuracy: 0.2504 - val_loss: 17.6395 - val_categorical_accuracy: 0.2100\n",
      "\n",
      "Epoch 00001: val_loss did not improve from 3.79239\n",
      "Epoch 2/10\n",
      "67/67 [==============================] - 60s 912ms/step - loss: 6.4785 - categorical_accuracy: 0.4131 - val_loss: 17.3933 - val_categorical_accuracy: 0.2000\n",
      "\n",
      "Epoch 00002: val_loss did not improve from 3.79239\n",
      "Epoch 3/10\n",
      "67/67 [==============================] - 61s 916ms/step - loss: 5.2874 - categorical_accuracy: 0.4256 - val_loss: 11.0243 - val_categorical_accuracy: 0.2400\n",
      "\n",
      "Epoch 00003: val_loss did not improve from 3.79239\n",
      "Epoch 4/10\n",
      "67/67 [==============================] - 60s 914ms/step - loss: 4.4622 - categorical_accuracy: 0.4938 - val_loss: 12.1976 - val_categorical_accuracy: 0.2300\n",
      "\n",
      "Epoch 00004: val_loss did not improve from 3.79239\n",
      "Epoch 5/10\n",
      "67/67 [==============================] - 60s 912ms/step - loss: 3.8443 - categorical_accuracy: 0.5522 - val_loss: 10.4649 - val_categorical_accuracy: 0.3100\n",
      "\n",
      "Epoch 00005: val_loss did not improve from 3.79239\n",
      "Epoch 6/10\n",
      "67/67 [==============================] - 61s 917ms/step - loss: 3.4539 - categorical_accuracy: 0.5213 - val_loss: 6.8918 - val_categorical_accuracy: 0.2900\n",
      "\n",
      "Epoch 00006: val_loss did not improve from 3.79239\n",
      "Epoch 7/10\n",
      "67/67 [==============================] - 61s 918ms/step - loss: 3.1789 - categorical_accuracy: 0.5756 - val_loss: 7.1330 - val_categorical_accuracy: 0.3000\n",
      "\n",
      "Epoch 00007: val_loss did not improve from 3.79239\n",
      "Epoch 8/10\n",
      "67/67 [==============================] - 61s 921ms/step - loss: 2.7159 - categorical_accuracy: 0.6512 - val_loss: 5.1751 - val_categorical_accuracy: 0.2700\n",
      "\n",
      "Epoch 00008: val_loss did not improve from 3.79239\n",
      "Epoch 9/10\n",
      "67/67 [==============================] - 62s 937ms/step - loss: 2.3528 - categorical_accuracy: 0.6907 - val_loss: 4.6816 - val_categorical_accuracy: 0.2700\n",
      "\n",
      "Epoch 00009: val_loss did not improve from 3.79239\n",
      "Epoch 10/10\n",
      "67/67 [==============================] - 60s 909ms/step - loss: 2.2489 - categorical_accuracy: 0.6985 - val_loss: 4.2799 - val_categorical_accuracy: 0.3000\n",
      "\n",
      "Epoch 00010: val_loss did not improve from 3.79239\n"
     ]
    }
   ],
   "source": [
    "\n",
    "history = model.fit_generator(train_generator, steps_per_epoch=steps_per_epoch, epochs=num_epochs, verbose=1, \n",
    "                    callbacks=callbacks_list, validation_data=val_generator, \n",
    "                    validation_steps=validation_steps, class_weight=None, workers=1, initial_epoch=0)"
   ]
  },
  {
   "cell_type": "code",
   "execution_count": 38,
   "metadata": {
    "colab": {
     "base_uri": "https://localhost:8080/",
     "height": 265
    },
    "id": "sG5iVxVAEbMF",
    "outputId": "02de1b9a-b541-420d-9ae6-3e80b1f2a133"
   },
   "outputs": [
    {
     "data": {
      "image/png": "[encoded data removed]",
      "text/plain": [
       "<Figure size 1080x288 with 2 Axes>"
      ]
     },
     "metadata": {
      "needs_background": "light",
      "tags": []
     },
     "output_type": "display_data"
    }
   ],
   "source": [
    "plot(history)"
   ]
  },
  {
   "cell_type": "code",
   "execution_count": 39,
   "metadata": {
    "colab": {
     "base_uri": "https://localhost:8080/"
    },
    "id": "Tl7gXKojEcE6",
    "outputId": "32b01fcd-e076-459a-e7b1-59eae1b26e49"
   },
   "outputs": [
    {
     "name": "stdout",
     "output_type": "stream",
     "text": [
      "        Model Name  Model Accuracy  Model Loss  Val Accuracy     Val Loss\n",
      "0  Model_1_Vanilla       47.014925  117.855895     33.000001  3748.384857\n",
      "0      Model_3_SGD       69.402987  951.683807     47.000000  1007.729626\n",
      "0   Model_2_Tuning       91.194028  188.983715     43.000001   379.239225\n",
      "0   Model_2_Add_HL       81.492537  442.510700     51.999998   541.738272\n",
      "0   Model_5_Tuning       68.656719  220.471096     30.000001   427.992392\n"
     ]
    }
   ],
   "source": [
    "df1 = model_result(\"Model_5_Tuning\",history.history['categorical_accuracy'][-1], history.history['loss'][-1] , history.history['val_categorical_accuracy'][-1], history.history['val_loss'][-1])\n",
    "\n",
    "model_detail_df = pd.concat([model_detail_df,df1])\n",
    "print(model_detail_df.head(20))"
   ]
  },
  {
   "cell_type": "markdown",
   "metadata": {
    "id": "7WxwcGbGxOGo"
   },
   "source": [
    "#  Architecutre 2 - Combination of CNN and RNN (CNN + RNN) -------------"
   ]
  },
  {
   "cell_type": "markdown",
   "metadata": {
    "id": "p72pvVgfxOGp"
   },
   "source": [
    "#  Model 6: CNN + SimpleRNN Network"
   ]
  },
  {
   "cell_type": "code",
   "execution_count": 40,
   "metadata": {
    "id": "uZKqTKMWxOGp"
   },
   "outputs": [],
   "source": [
    "input_shape = (frame, rows, cols, channel_color)"
   ]
  },
  {
   "cell_type": "code",
   "execution_count": 41,
   "metadata": {
    "colab": {
     "base_uri": "https://localhost:8080/"
    },
    "id": "9nWswHZxxOGp",
    "outputId": "77860d20-d07c-4733-8b9e-485585f8ff2e"
   },
   "outputs": [
    {
     "name": "stdout",
     "output_type": "stream",
     "text": [
      "Model: \"sequential_5\"\n",
      "_________________________________________________________________\n",
      "Layer (type)                 Output Shape              Param #   \n",
      "=================================================================\n",
      "time_distributed (TimeDistri (None, 20, 120, 120, 16)  448       \n",
      "_________________________________________________________________\n",
      "time_distributed_1 (TimeDist (None, 20, 120, 120, 16)  64        \n",
      "_________________________________________________________________\n",
      "time_distributed_2 (TimeDist (None, 20, 60, 60, 16)    0         \n",
      "_________________________________________________________________\n",
      "time_distributed_3 (TimeDist (None, 20, 60, 60, 32)    4640      \n",
      "_________________________________________________________________\n",
      "time_distributed_4 (TimeDist (None, 20, 60, 60, 32)    128       \n",
      "_________________________________________________________________\n",
      "time_distributed_5 (TimeDist (None, 20, 30, 30, 32)    0         \n",
      "_________________________________________________________________\n",
      "time_distributed_6 (TimeDist (None, 20, 30, 30, 64)    18496     \n",
      "_________________________________________________________________\n",
      "time_distributed_7 (TimeDist (None, 20, 30, 30, 64)    256       \n",
      "_________________________________________________________________\n",
      "time_distributed_8 (TimeDist (None, 20, 15, 15, 64)    0         \n",
      "_________________________________________________________________\n",
      "time_distributed_9 (TimeDist (None, 20, 15, 15, 128)   73856     \n",
      "_________________________________________________________________\n",
      "time_distributed_10 (TimeDis (None, 20, 15, 15, 128)   512       \n",
      "_________________________________________________________________\n",
      "time_distributed_11 (TimeDis (None, 20, 7, 7, 128)     0         \n",
      "_________________________________________________________________\n",
      "time_distributed_12 (TimeDis (None, 20, 6272)          0         \n",
      "_________________________________________________________________\n",
      "simple_rnn (SimpleRNN)       (None, 256)               1671424   \n",
      "_________________________________________________________________\n",
      "dense_11 (Dense)             (None, 256)               65792     \n",
      "_________________________________________________________________\n",
      "dropout_11 (Dropout)         (None, 256)               0         \n",
      "_________________________________________________________________\n",
      "dense_12 (Dense)             (None, 5)                 1285      \n",
      "=================================================================\n",
      "Total params: 1,836,901\n",
      "Trainable params: 1,836,421\n",
      "Non-trainable params: 480\n",
      "_________________________________________________________________\n",
      "None\n"
     ]
    }
   ],
   "source": [
    "model = Sequential()\n",
    "\n",
    "model.add(TimeDistributed(Conv2D(16, (3, 3) , padding='same', activation='relu'),input_shape = input_shape))\n",
    "model.add(TimeDistributed(BatchNormalization()))\n",
    "model.add(TimeDistributed(MaxPooling2D((2, 2))))\n",
    "\n",
    "model.add(TimeDistributed(Conv2D(32, (3, 3) , padding='same', activation='relu')))\n",
    "model.add(TimeDistributed(BatchNormalization()))\n",
    "model.add(TimeDistributed(MaxPooling2D((2, 2))))\n",
    "\n",
    "model.add(TimeDistributed(Conv2D(64, (3, 3) , padding='same', activation='relu')))\n",
    "model.add(TimeDistributed(BatchNormalization()))\n",
    "model.add(TimeDistributed(MaxPooling2D((2, 2))))\n",
    "\n",
    "model.add(TimeDistributed(Conv2D(128, (3, 3) , padding='same', activation='relu')))\n",
    "model.add(TimeDistributed(BatchNormalization()))\n",
    "model.add(TimeDistributed(MaxPooling2D((2, 2))))\n",
    "\n",
    "model.add(TimeDistributed(Flatten()))\n",
    "\n",
    "\n",
    "model.add(SimpleRNN(256))\n",
    "\n",
    "model.add(Dense(256,activation='relu'))\n",
    "model.add(Dropout(0.3))\n",
    "\n",
    "model.add(Dense(5, activation='softmax'))\n",
    "\n",
    "\n",
    "optimiser = 'adam'\n",
    "model.compile(optimizer=optimiser, loss='categorical_crossentropy', metrics=['categorical_accuracy'])\n",
    "print (model.summary())"
   ]
  },
  {
   "cell_type": "code",
   "execution_count": 42,
   "metadata": {
    "colab": {
     "base_uri": "https://localhost:8080/"
    },
    "id": "zkIrw5MSxOGq",
    "outputId": "1dbe28b5-c42d-4dc7-b215-e9d940eed812"
   },
   "outputs": [
    {
     "name": "stderr",
     "output_type": "stream",
     "text": [
      "/usr/local/lib/python3.7/dist-packages/tensorflow/python/keras/engine/training.py:1844: UserWarning: `Model.fit_generator` is deprecated and will be removed in a future version. Please use `Model.fit`, which supports generators.\n",
      "  warnings.warn('`Model.fit_generator` is deprecated and '\n"
     ]
    },
    {
     "name": "stdout",
     "output_type": "stream",
     "text": [
      "Epoch 1/10\n",
      "67/67 [==============================] - 63s 912ms/step - loss: 1.7525 - categorical_accuracy: 0.3375 - val_loss: 2.9429 - val_categorical_accuracy: 0.1800\n",
      "\n",
      "Epoch 00001: val_loss improved from 3.79239 to 2.94290, saving model to model_init_2021-05-0214_52_47.962411/model-00001-1.52887-0.39104-2.94290-0.18000.h5\n",
      "Epoch 2/10\n",
      "67/67 [==============================] - 61s 917ms/step - loss: 1.1133 - categorical_accuracy: 0.5839 - val_loss: 2.2689 - val_categorical_accuracy: 0.2900\n",
      "\n",
      "Epoch 00002: val_loss improved from 2.94290 to 2.26886, saving model to model_init_2021-05-0214_52_47.962411/model-00002-1.09420-0.58060-2.26886-0.29000.h5\n",
      "Epoch 3/10\n",
      "67/67 [==============================] - 61s 924ms/step - loss: 0.8943 - categorical_accuracy: 0.6261 - val_loss: 2.6245 - val_categorical_accuracy: 0.2900\n",
      "\n",
      "Epoch 00003: val_loss did not improve from 2.26886\n",
      "Epoch 4/10\n",
      "67/67 [==============================] - 61s 925ms/step - loss: 0.8346 - categorical_accuracy: 0.6747 - val_loss: 3.7484 - val_categorical_accuracy: 0.2200\n",
      "\n",
      "Epoch 00004: val_loss did not improve from 2.26886\n",
      "\n",
      "Epoch 00004: ReduceLROnPlateau reducing learning rate to 0.00010000000474974513.\n",
      "Epoch 5/10\n",
      "67/67 [==============================] - 61s 918ms/step - loss: 0.6795 - categorical_accuracy: 0.7251 - val_loss: 2.8339 - val_categorical_accuracy: 0.3400\n",
      "\n",
      "Epoch 00005: val_loss did not improve from 2.26886\n",
      "Epoch 6/10\n",
      "67/67 [==============================] - 61s 923ms/step - loss: 0.5267 - categorical_accuracy: 0.8254 - val_loss: 2.0627 - val_categorical_accuracy: 0.4500\n",
      "\n",
      "Epoch 00006: val_loss improved from 2.26886 to 2.06270, saving model to model_init_2021-05-0214_52_47.962411/model-00006-0.54824-0.81493-2.06270-0.45000.h5\n",
      "Epoch 7/10\n",
      "67/67 [==============================] - 61s 918ms/step - loss: 0.4003 - categorical_accuracy: 0.8630 - val_loss: 1.8650 - val_categorical_accuracy: 0.3900\n",
      "\n",
      "Epoch 00007: val_loss improved from 2.06270 to 1.86504, saving model to model_init_2021-05-0214_52_47.962411/model-00007-0.45034-0.84925-1.86504-0.39000.h5\n",
      "Epoch 8/10\n",
      "67/67 [==============================] - 61s 922ms/step - loss: 0.3840 - categorical_accuracy: 0.8416 - val_loss: 1.3452 - val_categorical_accuracy: 0.4800\n",
      "\n",
      "Epoch 00008: val_loss improved from 1.86504 to 1.34522, saving model to model_init_2021-05-0214_52_47.962411/model-00008-0.40138-0.85075-1.34522-0.48000.h5\n",
      "Epoch 9/10\n",
      "67/67 [==============================] - 60s 913ms/step - loss: 0.3369 - categorical_accuracy: 0.8891 - val_loss: 1.0228 - val_categorical_accuracy: 0.5700\n",
      "\n",
      "Epoch 00009: val_loss improved from 1.34522 to 1.02282, saving model to model_init_2021-05-0214_52_47.962411/model-00009-0.36050-0.86866-1.02282-0.57000.h5\n",
      "Epoch 10/10\n",
      "67/67 [==============================] - 61s 921ms/step - loss: 0.3218 - categorical_accuracy: 0.8890 - val_loss: 0.9398 - val_categorical_accuracy: 0.6400\n",
      "\n",
      "Epoch 00010: val_loss improved from 1.02282 to 0.93979, saving model to model_init_2021-05-0214_52_47.962411/model-00010-0.33058-0.88507-0.93979-0.64000.h5\n"
     ]
    }
   ],
   "source": [
    "history = model.fit_generator(train_generator, steps_per_epoch=steps_per_epoch, epochs=num_epochs, verbose=1, \n",
    "                    callbacks=callbacks_list, validation_data=val_generator, \n",
    "                    validation_steps=validation_steps, class_weight=None, workers=1, initial_epoch=0)"
   ]
  },
  {
   "cell_type": "code",
   "execution_count": 43,
   "metadata": {
    "colab": {
     "base_uri": "https://localhost:8080/",
     "height": 265
    },
    "id": "qucEr60UxOGq",
    "outputId": "7601b60c-3a45-485d-cf9f-837db4e23242"
   },
   "outputs": [
    {
     "data": {
      "image/png": "[encoded data removed]",
      "text/plain": [
       "<Figure size 1080x288 with 2 Axes>"
      ]
     },
     "metadata": {
      "needs_background": "light",
      "tags": []
     },
     "output_type": "display_data"
    }
   ],
   "source": [
    "plot(history)"
   ]
  },
  {
   "cell_type": "code",
   "execution_count": 44,
   "metadata": {
    "colab": {
     "base_uri": "https://localhost:8080/"
    },
    "id": "EGDTR48KxOGq",
    "outputId": "8b11d422-6985-42ed-8df9-6181a7f0311e",
    "scrolled": true
   },
   "outputs": [
    {
     "name": "stdout",
     "output_type": "stream",
     "text": [
      "        Model Name  Model Accuracy  Model Loss  Val Accuracy     Val Loss\n",
      "0  Model_1_Vanilla       47.014925  117.855895     33.000001  3748.384857\n",
      "0      Model_3_SGD       69.402987  951.683807     47.000000  1007.729626\n",
      "0   Model_2_Tuning       91.194028  188.983715     43.000001   379.239225\n",
      "0   Model_2_Add_HL       81.492537  442.510700     51.999998   541.738272\n",
      "0   Model_5_Tuning       68.656719  220.471096     30.000001   427.992392\n",
      "0  Model_6_CNN_RNN       88.507462   33.057642     63.999999    93.978983\n"
     ]
    }
   ],
   "source": [
    "df1 = model_result(\"Model_6_CNN_RNN\",history.history['categorical_accuracy'][-1], history.history['loss'][-1] , history.history['val_categorical_accuracy'][-1], history.history['val_loss'][-1])\n",
    "\n",
    "model_detail_df = pd.concat([model_detail_df,df1])\n",
    "print(model_detail_df.head(20))"
   ]
  },
  {
   "cell_type": "code",
   "execution_count": 45,
   "metadata": {
    "colab": {
     "base_uri": "https://localhost:8080/"
    },
    "id": "5ZkxNUNyxOGq",
    "outputId": "038a56aa-6bb4-429e-b25c-336dd059ec4c"
   },
   "outputs": [
    {
     "name": "stdout",
     "output_type": "stream",
     "text": [
      "        Model Name  Model Accuracy  Model Loss  Val Accuracy     Val Loss\n",
      "0  Model_1_Vanilla       47.014925  117.855895     33.000001  3748.384857\n",
      "0      Model_3_SGD       69.402987  951.683807     47.000000  1007.729626\n",
      "0   Model_2_Tuning       91.194028  188.983715     43.000001   379.239225\n",
      "0   Model_2_Add_HL       81.492537  442.510700     51.999998   541.738272\n",
      "0   Model_5_Tuning       68.656719  220.471096     30.000001   427.992392\n",
      "0  Model_6_CNN_RNN       88.507462   33.057642     63.999999    93.978983\n"
     ]
    }
   ],
   "source": [
    "print(model_detail_df.head(20))"
   ]
  },
  {
   "cell_type": "markdown",
   "metadata": {
    "id": "JO5jbTamxOGr"
   },
   "source": [
    "# Model 7: CNN + SimpleRNN Network(Added more cells, Added Dropout in HL)"
   ]
  },
  {
   "cell_type": "code",
   "execution_count": 46,
   "metadata": {
    "colab": {
     "base_uri": "https://localhost:8080/"
    },
    "id": "_j01dD7HxOGr",
    "outputId": "d5aadc18-74cb-4f9f-9c90-719d8b27a1a2"
   },
   "outputs": [
    {
     "name": "stdout",
     "output_type": "stream",
     "text": [
      "Model: \"sequential_6\"\n",
      "_________________________________________________________________\n",
      "Layer (type)                 Output Shape              Param #   \n",
      "=================================================================\n",
      "time_distributed_13 (TimeDis (None, 20, 120, 120, 32)  896       \n",
      "_________________________________________________________________\n",
      "time_distributed_14 (TimeDis (None, 20, 120, 120, 32)  128       \n",
      "_________________________________________________________________\n",
      "time_distributed_15 (TimeDis (None, 20, 60, 60, 32)    0         \n",
      "_________________________________________________________________\n",
      "time_distributed_16 (TimeDis (None, 20, 60, 60, 64)    18496     \n",
      "_________________________________________________________________\n",
      "time_distributed_17 (TimeDis (None, 20, 60, 60, 64)    256       \n",
      "_________________________________________________________________\n",
      "time_distributed_18 (TimeDis (None, 20, 30, 30, 64)    0         \n",
      "_________________________________________________________________\n",
      "dropout_12 (Dropout)         (None, 20, 30, 30, 64)    0         \n",
      "_________________________________________________________________\n",
      "time_distributed_19 (TimeDis (None, 20, 30, 30, 64)    36928     \n",
      "_________________________________________________________________\n",
      "time_distributed_20 (TimeDis (None, 20, 30, 30, 64)    256       \n",
      "_________________________________________________________________\n",
      "time_distributed_21 (TimeDis (None, 20, 15, 15, 64)    0         \n",
      "_________________________________________________________________\n",
      "dropout_13 (Dropout)         (None, 20, 15, 15, 64)    0         \n",
      "_________________________________________________________________\n",
      "time_distributed_22 (TimeDis (None, 20, 15, 15, 128)   73856     \n",
      "_________________________________________________________________\n",
      "time_distributed_23 (TimeDis (None, 20, 15, 15, 128)   512       \n",
      "_________________________________________________________________\n",
      "time_distributed_24 (TimeDis (None, 20, 7, 7, 128)     0         \n",
      "_________________________________________________________________\n",
      "dropout_14 (Dropout)         (None, 20, 7, 7, 128)     0         \n",
      "_________________________________________________________________\n",
      "time_distributed_25 (TimeDis (None, 20, 6272)          0         \n",
      "_________________________________________________________________\n",
      "simple_rnn_1 (SimpleRNN)     (None, 512)               3473920   \n",
      "_________________________________________________________________\n",
      "dense_13 (Dense)             (None, 512)               262656    \n",
      "_________________________________________________________________\n",
      "dropout_15 (Dropout)         (None, 512)               0         \n",
      "_________________________________________________________________\n",
      "dense_14 (Dense)             (None, 5)                 2565      \n",
      "=================================================================\n",
      "Total params: 3,870,469\n",
      "Trainable params: 3,869,893\n",
      "Non-trainable params: 576\n",
      "_________________________________________________________________\n",
      "None\n"
     ]
    }
   ],
   "source": [
    "model = Sequential()\n",
    "\n",
    "model.add(TimeDistributed(Conv2D(32, (3, 3) , padding='same', activation='relu'),input_shape = input_shape))\n",
    "model.add(TimeDistributed(BatchNormalization()))\n",
    "model.add(TimeDistributed(MaxPooling2D((2, 2))))\n",
    "\n",
    "model.add(TimeDistributed(Conv2D(64, (3, 3) , padding='same', activation='relu')))\n",
    "model.add(TimeDistributed(BatchNormalization()))\n",
    "model.add(TimeDistributed(MaxPooling2D((2, 2))))\n",
    "model.add(Dropout(0.2))\n",
    "\n",
    "\n",
    "model.add(TimeDistributed(Conv2D(64, (3, 3) , padding='same', activation='relu')))\n",
    "model.add(TimeDistributed(BatchNormalization()))\n",
    "model.add(TimeDistributed(MaxPooling2D((2, 2))))\n",
    "model.add(Dropout(0.2))\n",
    "\n",
    "model.add(TimeDistributed(Conv2D(128, (3, 3) , padding='same', activation='relu')))\n",
    "model.add(TimeDistributed(BatchNormalization()))\n",
    "model.add(TimeDistributed(MaxPooling2D((2, 2))))\n",
    "model.add(Dropout(0.2))\n",
    "\n",
    "model.add(TimeDistributed(Flatten()))\n",
    "\n",
    "\n",
    "model.add(SimpleRNN(512))\n",
    "\n",
    "model.add(Dense(512,activation='relu'))\n",
    "model.add(Dropout(0.3))\n",
    "\n",
    "model.add(Dense(5, activation='softmax'))\n",
    "\n",
    "\n",
    "optimiser = 'adam'\n",
    "model.compile(optimizer=optimiser, loss='categorical_crossentropy', metrics=['categorical_accuracy'])\n",
    "print (model.summary())"
   ]
  },
  {
   "cell_type": "code",
   "execution_count": 47,
   "metadata": {
    "colab": {
     "base_uri": "https://localhost:8080/"
    },
    "id": "1MOCYDHfxOGr",
    "outputId": "175d3214-01d7-45d8-cf41-2a456e88830e"
   },
   "outputs": [
    {
     "name": "stderr",
     "output_type": "stream",
     "text": [
      "/usr/local/lib/python3.7/dist-packages/tensorflow/python/keras/engine/training.py:1844: UserWarning: `Model.fit_generator` is deprecated and will be removed in a future version. Please use `Model.fit`, which supports generators.\n",
      "  warnings.warn('`Model.fit_generator` is deprecated and '\n"
     ]
    },
    {
     "name": "stdout",
     "output_type": "stream",
     "text": [
      "Epoch 1/10\n",
      "67/67 [==============================] - 65s 935ms/step - loss: 1.9927 - categorical_accuracy: 0.2801 - val_loss: 4.1132 - val_categorical_accuracy: 0.2100\n",
      "\n",
      "Epoch 00001: val_loss did not improve from 0.93979\n",
      "Epoch 2/10\n",
      "67/67 [==============================] - 61s 928ms/step - loss: 1.2848 - categorical_accuracy: 0.4561 - val_loss: 3.5747 - val_categorical_accuracy: 0.1500\n",
      "\n",
      "Epoch 00002: val_loss did not improve from 0.93979\n",
      "Epoch 3/10\n",
      "67/67 [==============================] - 61s 926ms/step - loss: 1.1058 - categorical_accuracy: 0.5374 - val_loss: 3.5372 - val_categorical_accuracy: 0.1800\n",
      "\n",
      "Epoch 00003: val_loss did not improve from 0.93979\n",
      "Epoch 4/10\n",
      "67/67 [==============================] - 62s 931ms/step - loss: 0.8339 - categorical_accuracy: 0.6147 - val_loss: 2.9027 - val_categorical_accuracy: 0.2700\n",
      "\n",
      "Epoch 00004: val_loss did not improve from 0.93979\n",
      "Epoch 5/10\n",
      "67/67 [==============================] - 62s 938ms/step - loss: 0.8923 - categorical_accuracy: 0.6275 - val_loss: 3.3585 - val_categorical_accuracy: 0.2700\n",
      "\n",
      "Epoch 00005: val_loss did not improve from 0.93979\n",
      "Epoch 6/10\n",
      "67/67 [==============================] - 61s 928ms/step - loss: 0.9166 - categorical_accuracy: 0.6295 - val_loss: 3.6461 - val_categorical_accuracy: 0.1600\n",
      "\n",
      "Epoch 00006: val_loss did not improve from 0.93979\n",
      "\n",
      "Epoch 00006: ReduceLROnPlateau reducing learning rate to 0.00010000000474974513.\n",
      "Epoch 7/10\n",
      "67/67 [==============================] - 61s 918ms/step - loss: 0.5969 - categorical_accuracy: 0.7795 - val_loss: 2.3785 - val_categorical_accuracy: 0.4000\n",
      "\n",
      "Epoch 00007: val_loss did not improve from 0.93979\n",
      "Epoch 8/10\n",
      "67/67 [==============================] - 62s 932ms/step - loss: 0.4196 - categorical_accuracy: 0.8610 - val_loss: 2.0525 - val_categorical_accuracy: 0.3900\n",
      "\n",
      "Epoch 00008: val_loss did not improve from 0.93979\n",
      "Epoch 9/10\n",
      "67/67 [==============================] - 62s 932ms/step - loss: 0.4126 - categorical_accuracy: 0.8579 - val_loss: 1.5032 - val_categorical_accuracy: 0.5300\n",
      "\n",
      "Epoch 00009: val_loss did not improve from 0.93979\n",
      "Epoch 10/10\n",
      "67/67 [==============================] - 61s 920ms/step - loss: 0.3756 - categorical_accuracy: 0.8574 - val_loss: 1.1555 - val_categorical_accuracy: 0.5700\n",
      "\n",
      "Epoch 00010: val_loss did not improve from 0.93979\n"
     ]
    }
   ],
   "source": [
    "history = model.fit_generator(train_generator, steps_per_epoch=steps_per_epoch, epochs=num_epochs, verbose=1, \n",
    "                    callbacks=callbacks_list, validation_data=val_generator, \n",
    "                    validation_steps=validation_steps, class_weight=None, workers=1, initial_epoch=0)"
   ]
  },
  {
   "cell_type": "code",
   "execution_count": 48,
   "metadata": {
    "colab": {
     "base_uri": "https://localhost:8080/",
     "height": 265
    },
    "id": "JkSuGeeoxOGs",
    "outputId": "0da7080a-b217-41c1-99ca-ecf74ebfeab1"
   },
   "outputs": [
    {
     "data": {
      "image/png": "[encoded data removed]",
      "text/plain": [
       "<Figure size 1080x288 with 2 Axes>"
      ]
     },
     "metadata": {
      "needs_background": "light",
      "tags": []
     },
     "output_type": "display_data"
    }
   ],
   "source": [
    "plot(history)"
   ]
  },
  {
   "cell_type": "code",
   "execution_count": 49,
   "metadata": {
    "colab": {
     "base_uri": "https://localhost:8080/"
    },
    "id": "T4YjUTWOxOGs",
    "outputId": "f626bbd7-87d8-438b-8020-380e02847163"
   },
   "outputs": [
    {
     "name": "stdout",
     "output_type": "stream",
     "text": [
      "                   Model Name  Model Accuracy  ...  Val Accuracy     Val Loss\n",
      "0             Model_1_Vanilla       47.014925  ...     33.000001  3748.384857\n",
      "0                 Model_3_SGD       69.402987  ...     47.000000  1007.729626\n",
      "0              Model_2_Tuning       91.194028  ...     43.000001   379.239225\n",
      "0              Model_2_Add_HL       81.492537  ...     51.999998   541.738272\n",
      "0              Model_5_Tuning       68.656719  ...     30.000001   427.992392\n",
      "0             Model_6_CNN_RNN       88.507462  ...     63.999999    93.978983\n",
      "0  Model_7_CNN_RNN_Add_Tuning       85.820895  ...     56.999999   115.549910\n",
      "\n",
      "[7 rows x 5 columns]\n"
     ]
    }
   ],
   "source": [
    "df1 = model_result(\"Model_7_CNN_RNN_Add_Tuning\",history.history['categorical_accuracy'][-1], history.history['loss'][-1] , history.history['val_categorical_accuracy'][-1], history.history['val_loss'][-1])\n",
    "\n",
    "model_detail_df = pd.concat([model_detail_df,df1])\n",
    "print(model_detail_df.head(20))"
   ]
  },
  {
   "cell_type": "markdown",
   "metadata": {
    "id": "VJle5PlhxOGt"
   },
   "source": [
    "# Model 8: CNN + LSTM Network()"
   ]
  },
  {
   "cell_type": "code",
   "execution_count": 50,
   "metadata": {
    "colab": {
     "base_uri": "https://localhost:8080/"
    },
    "id": "ZxccSI6mxOGt",
    "outputId": "ad33be99-d584-4a61-a375-b7da9f55b7d4"
   },
   "outputs": [
    {
     "name": "stdout",
     "output_type": "stream",
     "text": [
      "Model: \"sequential_7\"\n",
      "_________________________________________________________________\n",
      "Layer (type)                 Output Shape              Param #   \n",
      "=================================================================\n",
      "time_distributed_26 (TimeDis (None, 20, 120, 120, 16)  448       \n",
      "_________________________________________________________________\n",
      "time_distributed_27 (TimeDis (None, 20, 120, 120, 16)  64        \n",
      "_________________________________________________________________\n",
      "time_distributed_28 (TimeDis (None, 20, 60, 60, 16)    0         \n",
      "_________________________________________________________________\n",
      "time_distributed_29 (TimeDis (None, 20, 60, 60, 32)    4640      \n",
      "_________________________________________________________________\n",
      "time_distributed_30 (TimeDis (None, 20, 60, 60, 32)    128       \n",
      "_________________________________________________________________\n",
      "time_distributed_31 (TimeDis (None, 20, 30, 30, 32)    0         \n",
      "_________________________________________________________________\n",
      "time_distributed_32 (TimeDis (None, 20, 30, 30, 64)    18496     \n",
      "_________________________________________________________________\n",
      "time_distributed_33 (TimeDis (None, 20, 30, 30, 64)    256       \n",
      "_________________________________________________________________\n",
      "time_distributed_34 (TimeDis (None, 20, 15, 15, 64)    0         \n",
      "_________________________________________________________________\n",
      "time_distributed_35 (TimeDis (None, 20, 15, 15, 128)   73856     \n",
      "_________________________________________________________________\n",
      "time_distributed_36 (TimeDis (None, 20, 15, 15, 128)   512       \n",
      "_________________________________________________________________\n",
      "time_distributed_37 (TimeDis (None, 20, 7, 7, 128)     0         \n",
      "_________________________________________________________________\n",
      "time_distributed_38 (TimeDis (None, 20, 6272)          0         \n",
      "_________________________________________________________________\n",
      "lstm (LSTM)                  (None, 128)               3277312   \n",
      "_________________________________________________________________\n",
      "dense_15 (Dense)             (None, 128)               16512     \n",
      "_________________________________________________________________\n",
      "dropout_16 (Dropout)         (None, 128)               0         \n",
      "_________________________________________________________________\n",
      "dense_16 (Dense)             (None, 5)                 645       \n",
      "=================================================================\n",
      "Total params: 3,392,869\n",
      "Trainable params: 3,392,389\n",
      "Non-trainable params: 480\n",
      "_________________________________________________________________\n",
      "None\n"
     ]
    }
   ],
   "source": [
    "model = Sequential()\n",
    "\n",
    "model.add(TimeDistributed(Conv2D(16, (3, 3) , padding='same', activation='relu'),input_shape = input_shape))\n",
    "model.add(TimeDistributed(BatchNormalization()))\n",
    "model.add(TimeDistributed(MaxPooling2D((2, 2))))\n",
    "\n",
    "model.add(TimeDistributed(Conv2D(32, (3, 3) , padding='same', activation='relu')))\n",
    "model.add(TimeDistributed(BatchNormalization()))\n",
    "model.add(TimeDistributed(MaxPooling2D((2, 2))))\n",
    "\n",
    "model.add(TimeDistributed(Conv2D(64, (3, 3) , padding='same', activation='relu')))\n",
    "model.add(TimeDistributed(BatchNormalization()))\n",
    "model.add(TimeDistributed(MaxPooling2D((2, 2))))\n",
    "\n",
    "model.add(TimeDistributed(Conv2D(128, (3, 3) , padding='same', activation='relu')))\n",
    "model.add(TimeDistributed(BatchNormalization()))\n",
    "model.add(TimeDistributed(MaxPooling2D((2, 2))))\n",
    "\n",
    "model.add(TimeDistributed(Flatten()))\n",
    "\n",
    "\n",
    "model.add(LSTM(128))\n",
    "\n",
    "model.add(Dense(128,activation='relu'))\n",
    "model.add(Dropout(0.3))\n",
    "\n",
    "model.add(Dense(5, activation='softmax'))\n",
    "\n",
    "\n",
    "optimiser = 'adam'\n",
    "model.compile(optimizer=optimiser, loss='categorical_crossentropy', metrics=['categorical_accuracy'])\n",
    "print (model.summary())"
   ]
  },
  {
   "cell_type": "code",
   "execution_count": 51,
   "metadata": {
    "colab": {
     "base_uri": "https://localhost:8080/"
    },
    "id": "aTI0Kba7xOGt",
    "outputId": "c5ba3c29-c87a-4c61-cb48-36d8397529b5"
   },
   "outputs": [
    {
     "name": "stderr",
     "output_type": "stream",
     "text": [
      "/usr/local/lib/python3.7/dist-packages/tensorflow/python/keras/engine/training.py:1844: UserWarning: `Model.fit_generator` is deprecated and will be removed in a future version. Please use `Model.fit`, which supports generators.\n",
      "  warnings.warn('`Model.fit_generator` is deprecated and '\n"
     ]
    },
    {
     "name": "stdout",
     "output_type": "stream",
     "text": [
      "Epoch 1/10\n",
      "67/67 [==============================] - 62s 915ms/step - loss: 1.5013 - categorical_accuracy: 0.3352 - val_loss: 1.7314 - val_categorical_accuracy: 0.2200\n",
      "\n",
      "Epoch 00001: val_loss did not improve from 0.93979\n",
      "Epoch 2/10\n",
      "67/67 [==============================] - 60s 904ms/step - loss: 1.1185 - categorical_accuracy: 0.5542 - val_loss: 1.7030 - val_categorical_accuracy: 0.2300\n",
      "\n",
      "Epoch 00002: val_loss did not improve from 0.93979\n",
      "Epoch 3/10\n",
      "67/67 [==============================] - 59s 898ms/step - loss: 0.9938 - categorical_accuracy: 0.6278 - val_loss: 1.5679 - val_categorical_accuracy: 0.3000\n",
      "\n",
      "Epoch 00003: val_loss did not improve from 0.93979\n",
      "Epoch 4/10\n",
      "67/67 [==============================] - 60s 902ms/step - loss: 1.0123 - categorical_accuracy: 0.5943 - val_loss: 1.7216 - val_categorical_accuracy: 0.4200\n",
      "\n",
      "Epoch 00004: val_loss did not improve from 0.93979\n",
      "Epoch 5/10\n",
      "67/67 [==============================] - 60s 910ms/step - loss: 0.8151 - categorical_accuracy: 0.6994 - val_loss: 1.5317 - val_categorical_accuracy: 0.4900\n",
      "\n",
      "Epoch 00005: val_loss did not improve from 0.93979\n",
      "Epoch 6/10\n",
      "67/67 [==============================] - 60s 912ms/step - loss: 0.7130 - categorical_accuracy: 0.7530 - val_loss: 1.8089 - val_categorical_accuracy: 0.4100\n",
      "\n",
      "Epoch 00006: val_loss did not improve from 0.93979\n",
      "Epoch 7/10\n",
      "67/67 [==============================] - 61s 920ms/step - loss: 0.6344 - categorical_accuracy: 0.7517 - val_loss: 1.2647 - val_categorical_accuracy: 0.5500\n",
      "\n",
      "Epoch 00007: val_loss did not improve from 0.93979\n",
      "Epoch 8/10\n",
      "67/67 [==============================] - 60s 907ms/step - loss: 0.6161 - categorical_accuracy: 0.7619 - val_loss: 1.4303 - val_categorical_accuracy: 0.4800\n",
      "\n",
      "Epoch 00008: val_loss did not improve from 0.93979\n",
      "Epoch 9/10\n",
      "67/67 [==============================] - 60s 909ms/step - loss: 0.7839 - categorical_accuracy: 0.6798 - val_loss: 1.3113 - val_categorical_accuracy: 0.5300\n",
      "\n",
      "Epoch 00009: val_loss did not improve from 0.93979\n",
      "\n",
      "Epoch 00009: ReduceLROnPlateau reducing learning rate to 0.00010000000474974513.\n",
      "Epoch 10/10\n",
      "67/67 [==============================] - 60s 909ms/step - loss: 0.6066 - categorical_accuracy: 0.7949 - val_loss: 1.0871 - val_categorical_accuracy: 0.6000\n",
      "\n",
      "Epoch 00010: val_loss did not improve from 0.93979\n"
     ]
    }
   ],
   "source": [
    "history = model.fit_generator(train_generator, steps_per_epoch=steps_per_epoch, epochs=num_epochs, verbose=1, \n",
    "                    callbacks=callbacks_list, validation_data=val_generator, \n",
    "                    validation_steps=validation_steps, class_weight=None, workers=1, initial_epoch=0)"
   ]
  },
  {
   "cell_type": "code",
   "execution_count": 52,
   "metadata": {
    "colab": {
     "base_uri": "https://localhost:8080/",
     "height": 265
    },
    "id": "IhpQQEF2xOGu",
    "outputId": "b428a269-a064-4b96-aa14-6b1a61146a23"
   },
   "outputs": [
    {
     "data": {
      "image/png": "[encoded data removed]",
      "text/plain": [
       "<Figure size 1080x288 with 2 Axes>"
      ]
     },
     "metadata": {
      "needs_background": "light",
      "tags": []
     },
     "output_type": "display_data"
    }
   ],
   "source": [
    "plot(history)"
   ]
  },
  {
   "cell_type": "code",
   "execution_count": 53,
   "metadata": {
    "colab": {
     "base_uri": "https://localhost:8080/"
    },
    "id": "8Hk5j8OZxOGv",
    "outputId": "6c9d73f5-59f7-44af-d361-804737f1ec0e"
   },
   "outputs": [
    {
     "name": "stdout",
     "output_type": "stream",
     "text": [
      "                   Model Name  Model Accuracy  ...  Val Accuracy     Val Loss\n",
      "0             Model_1_Vanilla       47.014925  ...     33.000001  3748.384857\n",
      "0                 Model_3_SGD       69.402987  ...     47.000000  1007.729626\n",
      "0              Model_2_Tuning       91.194028  ...     43.000001   379.239225\n",
      "0              Model_2_Add_HL       81.492537  ...     51.999998   541.738272\n",
      "0              Model_5_Tuning       68.656719  ...     30.000001   427.992392\n",
      "0             Model_6_CNN_RNN       88.507462  ...     63.999999    93.978983\n",
      "0  Model_7_CNN_RNN_Add_Tuning       85.820895  ...     56.999999   115.549910\n",
      "0            Model_8_CNN_LSTM       80.000001  ...     60.000002   108.709717\n",
      "\n",
      "[8 rows x 5 columns]\n"
     ]
    }
   ],
   "source": [
    "df1 = model_result(\"Model_8_CNN_LSTM\",history.history['categorical_accuracy'][-1], history.history['loss'][-1] , history.history['val_categorical_accuracy'][-1], history.history['val_loss'][-1])\n",
    "\n",
    "model_detail_df = pd.concat([model_detail_df,df1])\n",
    "print(model_detail_df.head(20))"
   ]
  },
  {
   "cell_type": "markdown",
   "metadata": {
    "id": "yF2hxfEWxOGv"
   },
   "source": [
    "# Model 9: CNN + LSTM Network(Added more cells, Removed Hidden Layer, Added Dropout)"
   ]
  },
  {
   "cell_type": "code",
   "execution_count": 54,
   "metadata": {
    "colab": {
     "base_uri": "https://localhost:8080/"
    },
    "id": "uTIIfsYcxOGv",
    "outputId": "5e565e5f-9154-4a78-a97c-72370ffb7407"
   },
   "outputs": [
    {
     "name": "stdout",
     "output_type": "stream",
     "text": [
      "Model: \"sequential_8\"\n",
      "_________________________________________________________________\n",
      "Layer (type)                 Output Shape              Param #   \n",
      "=================================================================\n",
      "time_distributed_39 (TimeDis (None, 20, 120, 120, 32)  896       \n",
      "_________________________________________________________________\n",
      "time_distributed_40 (TimeDis (None, 20, 120, 120, 32)  128       \n",
      "_________________________________________________________________\n",
      "time_distributed_41 (TimeDis (None, 20, 60, 60, 32)    0         \n",
      "_________________________________________________________________\n",
      "time_distributed_42 (TimeDis (None, 20, 60, 60, 64)    18496     \n",
      "_________________________________________________________________\n",
      "time_distributed_43 (TimeDis (None, 20, 60, 60, 64)    256       \n",
      "_________________________________________________________________\n",
      "time_distributed_44 (TimeDis (None, 20, 30, 30, 64)    0         \n",
      "_________________________________________________________________\n",
      "dropout_17 (Dropout)         (None, 20, 30, 30, 64)    0         \n",
      "_________________________________________________________________\n",
      "time_distributed_45 (TimeDis (None, 20, 30, 30, 128)   73856     \n",
      "_________________________________________________________________\n",
      "time_distributed_46 (TimeDis (None, 20, 30, 30, 128)   512       \n",
      "_________________________________________________________________\n",
      "time_distributed_47 (TimeDis (None, 20, 15, 15, 128)   0         \n",
      "_________________________________________________________________\n",
      "dropout_18 (Dropout)         (None, 20, 15, 15, 128)   0         \n",
      "_________________________________________________________________\n",
      "time_distributed_48 (TimeDis (None, 20, 28800)         0         \n",
      "_________________________________________________________________\n",
      "lstm_1 (LSTM)                (None, 512)               60033024  \n",
      "_________________________________________________________________\n",
      "dense_17 (Dense)             (None, 512)               262656    \n",
      "_________________________________________________________________\n",
      "dropout_19 (Dropout)         (None, 512)               0         \n",
      "_________________________________________________________________\n",
      "dense_18 (Dense)             (None, 5)                 2565      \n",
      "=================================================================\n",
      "Total params: 60,392,389\n",
      "Trainable params: 60,391,941\n",
      "Non-trainable params: 448\n",
      "_________________________________________________________________\n",
      "None\n"
     ]
    }
   ],
   "source": [
    "model = Sequential()\n",
    "\n",
    "model.add(TimeDistributed(Conv2D(32, (3, 3) , padding='same', activation='relu'),input_shape = input_shape))\n",
    "model.add(TimeDistributed(BatchNormalization()))\n",
    "model.add(TimeDistributed(MaxPooling2D((2, 2))))\n",
    "\n",
    "model.add(TimeDistributed(Conv2D(64, (3, 3) , padding='same', activation='relu')))\n",
    "model.add(TimeDistributed(BatchNormalization()))\n",
    "model.add(TimeDistributed(MaxPooling2D((2, 2))))\n",
    "model.add(Dropout(0.3))\n",
    "\n",
    "\n",
    "model.add(TimeDistributed(Conv2D(128, (3, 3) , padding='same', activation='relu')))\n",
    "model.add(TimeDistributed(BatchNormalization()))\n",
    "model.add(TimeDistributed(MaxPooling2D((2, 2))))\n",
    "model.add(Dropout(0.3))\n",
    "\n",
    "model.add(TimeDistributed(Flatten()))\n",
    "\n",
    "\n",
    "model.add(LSTM(512))\n",
    "\n",
    "model.add(Dense(512,activation='relu'))\n",
    "model.add(Dropout(0.3))\n",
    "\n",
    "model.add(Dense(5, activation='softmax'))\n",
    "\n",
    "\n",
    "optimiser = 'adam'\n",
    "model.compile(optimizer=optimiser, loss='categorical_crossentropy', metrics=['categorical_accuracy'])\n",
    "print (model.summary())"
   ]
  },
  {
   "cell_type": "code",
   "execution_count": 55,
   "metadata": {
    "colab": {
     "base_uri": "https://localhost:8080/"
    },
    "id": "V4mqvAuLxOGw",
    "outputId": "3efc8860-551d-4403-dd77-359c583bfc8f"
   },
   "outputs": [
    {
     "name": "stderr",
     "output_type": "stream",
     "text": [
      "/usr/local/lib/python3.7/dist-packages/tensorflow/python/keras/engine/training.py:1844: UserWarning: `Model.fit_generator` is deprecated and will be removed in a future version. Please use `Model.fit`, which supports generators.\n",
      "  warnings.warn('`Model.fit_generator` is deprecated and '\n"
     ]
    },
    {
     "name": "stdout",
     "output_type": "stream",
     "text": [
      "Epoch 1/10\n",
      "67/67 [==============================] - 64s 924ms/step - loss: 1.6979 - categorical_accuracy: 0.2701 - val_loss: 1.8109 - val_categorical_accuracy: 0.1800\n",
      "\n",
      "Epoch 00001: val_loss did not improve from 0.93979\n",
      "Epoch 2/10\n",
      "67/67 [==============================] - 62s 934ms/step - loss: 1.3360 - categorical_accuracy: 0.4338 - val_loss: 2.8045 - val_categorical_accuracy: 0.2400\n",
      "\n",
      "Epoch 00002: val_loss did not improve from 0.93979\n",
      "Epoch 3/10\n",
      "67/67 [==============================] - 62s 936ms/step - loss: 1.1243 - categorical_accuracy: 0.5230 - val_loss: 2.4327 - val_categorical_accuracy: 0.2500\n",
      "\n",
      "Epoch 00003: val_loss did not improve from 0.93979\n",
      "\n",
      "Epoch 00003: ReduceLROnPlateau reducing learning rate to 0.00010000000474974513.\n",
      "Epoch 4/10\n",
      "67/67 [==============================] - 62s 932ms/step - loss: 0.9649 - categorical_accuracy: 0.6305 - val_loss: 2.3671 - val_categorical_accuracy: 0.2500\n",
      "\n",
      "Epoch 00004: val_loss did not improve from 0.93979\n",
      "Epoch 5/10\n",
      "67/67 [==============================] - 62s 935ms/step - loss: 0.7362 - categorical_accuracy: 0.7141 - val_loss: 2.4532 - val_categorical_accuracy: 0.2700\n",
      "\n",
      "Epoch 00005: val_loss did not improve from 0.93979\n",
      "\n",
      "Epoch 00005: ReduceLROnPlateau reducing learning rate to 1.0000000474974514e-05.\n",
      "Epoch 6/10\n",
      "67/67 [==============================] - 61s 919ms/step - loss: 0.6440 - categorical_accuracy: 0.7870 - val_loss: 2.4369 - val_categorical_accuracy: 0.2800\n",
      "\n",
      "Epoch 00006: val_loss did not improve from 0.93979\n",
      "Epoch 7/10\n",
      "67/67 [==============================] - 63s 944ms/step - loss: 0.6077 - categorical_accuracy: 0.7765 - val_loss: 1.9314 - val_categorical_accuracy: 0.4600\n",
      "\n",
      "Epoch 00007: val_loss did not improve from 0.93979\n",
      "\n",
      "Epoch 00007: ReduceLROnPlateau reducing learning rate to 1.0000000656873453e-06.\n",
      "Epoch 8/10\n",
      "67/67 [==============================] - 61s 926ms/step - loss: 0.6633 - categorical_accuracy: 0.7602 - val_loss: 1.4553 - val_categorical_accuracy: 0.4700\n",
      "\n",
      "Epoch 00008: val_loss did not improve from 0.93979\n",
      "Epoch 9/10\n",
      "67/67 [==============================] - 62s 940ms/step - loss: 0.6422 - categorical_accuracy: 0.7752 - val_loss: 1.3546 - val_categorical_accuracy: 0.4100\n",
      "\n",
      "Epoch 00009: val_loss did not improve from 0.93979\n",
      "Epoch 10/10\n",
      "67/67 [==============================] - 62s 930ms/step - loss: 0.6681 - categorical_accuracy: 0.7766 - val_loss: 0.9994 - val_categorical_accuracy: 0.6300\n",
      "\n",
      "Epoch 00010: val_loss did not improve from 0.93979\n"
     ]
    }
   ],
   "source": [
    "history = model.fit_generator(train_generator, steps_per_epoch=steps_per_epoch, epochs=num_epochs, verbose=1, \n",
    "                    callbacks=callbacks_list, validation_data=val_generator, \n",
    "                    validation_steps=validation_steps, class_weight=None, workers=1, initial_epoch=0)"
   ]
  },
  {
   "cell_type": "code",
   "execution_count": 56,
   "metadata": {
    "colab": {
     "base_uri": "https://localhost:8080/",
     "height": 266
    },
    "id": "bhldssgkxOGw",
    "outputId": "b8b42756-7e63-4a32-ea60-9c263b5b0e66"
   },
   "outputs": [
    {
     "data": {
      "image/png": "[encoded data removed]",
      "text/plain": [
       "<Figure size 1080x288 with 2 Axes>"
      ]
     },
     "metadata": {
      "needs_background": "light",
      "tags": []
     },
     "output_type": "display_data"
    }
   ],
   "source": [
    "plot(history)"
   ]
  },
  {
   "cell_type": "code",
   "execution_count": 57,
   "metadata": {
    "colab": {
     "base_uri": "https://localhost:8080/"
    },
    "id": "UaXDh0wjxOGx",
    "outputId": "1ca7befb-4d5c-4312-de96-eab1352ffa53"
   },
   "outputs": [
    {
     "name": "stdout",
     "output_type": "stream",
     "text": [
      "                   Model Name  Model Accuracy  ...  Val Accuracy     Val Loss\n",
      "0             Model_1_Vanilla       47.014925  ...     33.000001  3748.384857\n",
      "0                 Model_3_SGD       69.402987  ...     47.000000  1007.729626\n",
      "0              Model_2_Tuning       91.194028  ...     43.000001   379.239225\n",
      "0              Model_2_Add_HL       81.492537  ...     51.999998   541.738272\n",
      "0              Model_5_Tuning       68.656719  ...     30.000001   427.992392\n",
      "0             Model_6_CNN_RNN       88.507462  ...     63.999999    93.978983\n",
      "0  Model_7_CNN_RNN_Add_Tuning       85.820895  ...     56.999999   115.549910\n",
      "0            Model_8_CNN_LSTM       80.000001  ...     60.000002   108.709717\n",
      "0       Model_9_CNN_LSTM_Tune       77.761191  ...     63.000000    99.936372\n",
      "\n",
      "[9 rows x 5 columns]\n"
     ]
    }
   ],
   "source": [
    "df1 = model_result( \"Model_9_CNN_LSTM_Tune\", history.history['categorical_accuracy'][-1], history.history['loss'][-1] , history.history['val_categorical_accuracy'][-1], history.history['val_loss'][-1])\n",
    "\n",
    "model_detail_df = pd.concat([model_detail_df,df1])\n",
    "print(model_detail_df.head(20))"
   ]
  },
  {
   "cell_type": "markdown",
   "metadata": {
    "id": "fZf2ZjtzxOGx"
   },
   "source": [
    "#  Model 10 : CNN + GRU Network "
   ]
  },
  {
   "cell_type": "code",
   "execution_count": 58,
   "metadata": {
    "colab": {
     "base_uri": "https://localhost:8080/"
    },
    "id": "BMh1uu66xOGx",
    "outputId": "dd0b5e4a-41b2-42b1-9cac-49ecde0384ec"
   },
   "outputs": [
    {
     "name": "stdout",
     "output_type": "stream",
     "text": [
      "Model: \"sequential_9\"\n",
      "_________________________________________________________________\n",
      "Layer (type)                 Output Shape              Param #   \n",
      "=================================================================\n",
      "time_distributed_49 (TimeDis (None, 20, 120, 120, 16)  448       \n",
      "_________________________________________________________________\n",
      "time_distributed_50 (TimeDis (None, 20, 120, 120, 16)  64        \n",
      "_________________________________________________________________\n",
      "time_distributed_51 (TimeDis (None, 20, 60, 60, 16)    0         \n",
      "_________________________________________________________________\n",
      "time_distributed_52 (TimeDis (None, 20, 60, 60, 32)    4640      \n",
      "_________________________________________________________________\n",
      "time_distributed_53 (TimeDis (None, 20, 60, 60, 32)    128       \n",
      "_________________________________________________________________\n",
      "time_distributed_54 (TimeDis (None, 20, 30, 30, 32)    0         \n",
      "_________________________________________________________________\n",
      "time_distributed_55 (TimeDis (None, 20, 30, 30, 64)    18496     \n",
      "_________________________________________________________________\n",
      "time_distributed_56 (TimeDis (None, 20, 30, 30, 64)    256       \n",
      "_________________________________________________________________\n",
      "time_distributed_57 (TimeDis (None, 20, 15, 15, 64)    0         \n",
      "_________________________________________________________________\n",
      "time_distributed_58 (TimeDis (None, 20, 15, 15, 128)   73856     \n",
      "_________________________________________________________________\n",
      "time_distributed_59 (TimeDis (None, 20, 15, 15, 128)   512       \n",
      "_________________________________________________________________\n",
      "time_distributed_60 (TimeDis (None, 20, 7, 7, 128)     0         \n",
      "_________________________________________________________________\n",
      "time_distributed_61 (TimeDis (None, 20, 6272)          0         \n",
      "_________________________________________________________________\n",
      "gru (GRU)                    (None, 256)               5015040   \n",
      "_________________________________________________________________\n",
      "dense_19 (Dense)             (None, 256)               65792     \n",
      "_________________________________________________________________\n",
      "dropout_20 (Dropout)         (None, 256)               0         \n",
      "_________________________________________________________________\n",
      "dense_20 (Dense)             (None, 5)                 1285      \n",
      "=================================================================\n",
      "Total params: 5,180,517\n",
      "Trainable params: 5,180,037\n",
      "Non-trainable params: 480\n",
      "_________________________________________________________________\n",
      "None\n"
     ]
    }
   ],
   "source": [
    "model = Sequential()\n",
    "\n",
    "model.add(TimeDistributed(Conv2D(16, (3, 3) , padding='same', activation='relu'),input_shape = input_shape))\n",
    "model.add(TimeDistributed(BatchNormalization()))\n",
    "model.add(TimeDistributed(MaxPooling2D((2, 2))))\n",
    "\n",
    "model.add(TimeDistributed(Conv2D(32, (3, 3) , padding='same', activation='relu')))\n",
    "model.add(TimeDistributed(BatchNormalization()))\n",
    "model.add(TimeDistributed(MaxPooling2D((2, 2))))\n",
    "\n",
    "model.add(TimeDistributed(Conv2D(64, (3, 3) , padding='same', activation='relu')))\n",
    "model.add(TimeDistributed(BatchNormalization()))\n",
    "model.add(TimeDistributed(MaxPooling2D((2, 2))))\n",
    "\n",
    "model.add(TimeDistributed(Conv2D(128, (3, 3) , padding='same', activation='relu')))\n",
    "model.add(TimeDistributed(BatchNormalization()))\n",
    "model.add(TimeDistributed(MaxPooling2D((2, 2))))\n",
    "\n",
    "model.add(TimeDistributed(Flatten()))\n",
    "\n",
    "\n",
    "model.add(GRU(256))\n",
    "\n",
    "model.add(Dense(256,activation='relu'))\n",
    "model.add(Dropout(0.4))\n",
    "\n",
    "model.add(Dense(5, activation='softmax'))\n",
    "\n",
    "\n",
    "optimiser = 'adam'\n",
    "model.compile(optimizer=optimiser, loss='categorical_crossentropy', metrics=['categorical_accuracy'])\n",
    "print (model.summary())\n"
   ]
  },
  {
   "cell_type": "code",
   "execution_count": 59,
   "metadata": {
    "colab": {
     "base_uri": "https://localhost:8080/"
    },
    "id": "Wb8LQMUpxOGy",
    "outputId": "8e4f33f6-f40a-4d46-8a7c-ba158d58e518"
   },
   "outputs": [
    {
     "name": "stderr",
     "output_type": "stream",
     "text": [
      "/usr/local/lib/python3.7/dist-packages/tensorflow/python/keras/engine/training.py:1844: UserWarning: `Model.fit_generator` is deprecated and will be removed in a future version. Please use `Model.fit`, which supports generators.\n",
      "  warnings.warn('`Model.fit_generator` is deprecated and '\n"
     ]
    },
    {
     "name": "stdout",
     "output_type": "stream",
     "text": [
      "Epoch 1/10\n",
      "67/67 [==============================] - 62s 913ms/step - loss: 1.5987 - categorical_accuracy: 0.3750 - val_loss: 2.7131 - val_categorical_accuracy: 0.2100\n",
      "\n",
      "Epoch 00001: val_loss did not improve from 0.93979\n",
      "Epoch 2/10\n",
      "67/67 [==============================] - 61s 922ms/step - loss: 1.1203 - categorical_accuracy: 0.5468 - val_loss: 2.4512 - val_categorical_accuracy: 0.2200\n",
      "\n",
      "Epoch 00002: val_loss did not improve from 0.93979\n",
      "Epoch 3/10\n",
      "67/67 [==============================] - 61s 917ms/step - loss: 0.8799 - categorical_accuracy: 0.6323 - val_loss: 2.9166 - val_categorical_accuracy: 0.2300\n",
      "\n",
      "Epoch 00003: val_loss did not improve from 0.93979\n",
      "Epoch 4/10\n",
      "67/67 [==============================] - 60s 912ms/step - loss: 0.7762 - categorical_accuracy: 0.7100 - val_loss: 2.9802 - val_categorical_accuracy: 0.2100\n",
      "\n",
      "Epoch 00004: val_loss did not improve from 0.93979\n",
      "\n",
      "Epoch 00004: ReduceLROnPlateau reducing learning rate to 0.00010000000474974513.\n",
      "Epoch 5/10\n",
      "67/67 [==============================] - 60s 909ms/step - loss: 0.5885 - categorical_accuracy: 0.7845 - val_loss: 2.2364 - val_categorical_accuracy: 0.3300\n",
      "\n",
      "Epoch 00005: val_loss did not improve from 0.93979\n",
      "Epoch 6/10\n",
      "67/67 [==============================] - 60s 912ms/step - loss: 0.4584 - categorical_accuracy: 0.8285 - val_loss: 1.9317 - val_categorical_accuracy: 0.2700\n",
      "\n",
      "Epoch 00006: val_loss did not improve from 0.93979\n",
      "Epoch 7/10\n",
      "67/67 [==============================] - 61s 928ms/step - loss: 0.4203 - categorical_accuracy: 0.8411 - val_loss: 1.3617 - val_categorical_accuracy: 0.4600\n",
      "\n",
      "Epoch 00007: val_loss did not improve from 0.93979\n",
      "Epoch 8/10\n",
      "67/67 [==============================] - 60s 912ms/step - loss: 0.3430 - categorical_accuracy: 0.8834 - val_loss: 0.9796 - val_categorical_accuracy: 0.6200\n",
      "\n",
      "Epoch 00008: val_loss did not improve from 0.93979\n",
      "Epoch 9/10\n",
      "67/67 [==============================] - 60s 909ms/step - loss: 0.2726 - categorical_accuracy: 0.9079 - val_loss: 1.0640 - val_categorical_accuracy: 0.6200\n",
      "\n",
      "Epoch 00009: val_loss did not improve from 0.93979\n",
      "Epoch 10/10\n",
      "67/67 [==============================] - 60s 914ms/step - loss: 0.2798 - categorical_accuracy: 0.9050 - val_loss: 0.7481 - val_categorical_accuracy: 0.7300\n",
      "\n",
      "Epoch 00010: val_loss improved from 0.93979 to 0.74814, saving model to model_init_2021-05-0214_52_47.962411/model-00010-0.30169-0.90149-0.74814-0.73000.h5\n"
     ]
    }
   ],
   "source": [
    "history = model.fit_generator(train_generator, steps_per_epoch=steps_per_epoch, epochs=num_epochs, verbose=1, \n",
    "                    callbacks=callbacks_list, validation_data=val_generator, \n",
    "                    validation_steps=validation_steps, class_weight=None, workers=1, initial_epoch=0)"
   ]
  },
  {
   "cell_type": "code",
   "execution_count": 60,
   "metadata": {
    "colab": {
     "base_uri": "https://localhost:8080/",
     "height": 265
    },
    "id": "d2qGnIjaxOGy",
    "outputId": "b176bad2-709a-4520-f7d2-384284fc89ce"
   },
   "outputs": [
    {
     "data": {
      "image/png": "[encoded data removed]",
      "text/plain": [
       "<Figure size 1080x288 with 2 Axes>"
      ]
     },
     "metadata": {
      "needs_background": "light",
      "tags": []
     },
     "output_type": "display_data"
    }
   ],
   "source": [
    "plot(history)"
   ]
  },
  {
   "cell_type": "code",
   "execution_count": 61,
   "metadata": {
    "colab": {
     "base_uri": "https://localhost:8080/"
    },
    "id": "UUInWZpbxOGy",
    "outputId": "af04ed16-821f-4db7-bdae-02658e060a7e"
   },
   "outputs": [
    {
     "name": "stdout",
     "output_type": "stream",
     "text": [
      "                   Model Name  Model Accuracy  ...  Val Accuracy     Val Loss\n",
      "0             Model_1_Vanilla       47.014925  ...     33.000001  3748.384857\n",
      "0                 Model_3_SGD       69.402987  ...     47.000000  1007.729626\n",
      "0              Model_2_Tuning       91.194028  ...     43.000001   379.239225\n",
      "0              Model_2_Add_HL       81.492537  ...     51.999998   541.738272\n",
      "0              Model_5_Tuning       68.656719  ...     30.000001   427.992392\n",
      "0             Model_6_CNN_RNN       88.507462  ...     63.999999    93.978983\n",
      "0  Model_7_CNN_RNN_Add_Tuning       85.820895  ...     56.999999   115.549910\n",
      "0            Model_8_CNN_LSTM       80.000001  ...     60.000002   108.709717\n",
      "0       Model_9_CNN_LSTM_Tune       77.761191  ...     63.000000    99.936372\n",
      "0            Model_10_CNN_GRU       90.149254  ...     73.000002    74.813592\n",
      "\n",
      "[10 rows x 5 columns]\n"
     ]
    }
   ],
   "source": [
    "df1 = model_result(\"Model_10_CNN_GRU\", history.history['categorical_accuracy'][-1], history.history['loss'][-1] , history.history['val_categorical_accuracy'][-1], history.history['val_loss'][-1])\n",
    "\n",
    "model_detail_df = pd.concat([model_detail_df,df1])\n",
    "print(model_detail_df.head(20))"
   ]
  },
  {
   "cell_type": "markdown",
   "metadata": {
    "id": "gEISPgVWxOGz"
   },
   "source": [
    "#  Model 11 : CNN + GRU Network(Added more cells, Added Hidden Layer, Added Dropout)"
   ]
  },
  {
   "cell_type": "code",
   "execution_count": 62,
   "metadata": {
    "colab": {
     "base_uri": "https://localhost:8080/"
    },
    "id": "3rZhx9FfxOGz",
    "outputId": "54486f22-4235-4b6e-9332-1097b07ad835"
   },
   "outputs": [
    {
     "name": "stdout",
     "output_type": "stream",
     "text": [
      "Model: \"sequential_10\"\n",
      "_________________________________________________________________\n",
      "Layer (type)                 Output Shape              Param #   \n",
      "=================================================================\n",
      "time_distributed_62 (TimeDis (None, 20, 120, 120, 64)  1792      \n",
      "_________________________________________________________________\n",
      "time_distributed_63 (TimeDis (None, 20, 120, 120, 64)  256       \n",
      "_________________________________________________________________\n",
      "time_distributed_64 (TimeDis (None, 20, 60, 60, 64)    0         \n",
      "_________________________________________________________________\n",
      "time_distributed_65 (TimeDis (None, 20, 60, 60, 64)    36928     \n",
      "_________________________________________________________________\n",
      "time_distributed_66 (TimeDis (None, 20, 60, 60, 64)    256       \n",
      "_________________________________________________________________\n",
      "time_distributed_67 (TimeDis (None, 20, 30, 30, 64)    0         \n",
      "_________________________________________________________________\n",
      "dropout_21 (Dropout)         (None, 20, 30, 30, 64)    0         \n",
      "_________________________________________________________________\n",
      "time_distributed_68 (TimeDis (None, 20, 30, 30, 64)    36928     \n",
      "_________________________________________________________________\n",
      "time_distributed_69 (TimeDis (None, 20, 30, 30, 64)    256       \n",
      "_________________________________________________________________\n",
      "time_distributed_70 (TimeDis (None, 20, 15, 15, 64)    0         \n",
      "_________________________________________________________________\n",
      "dropout_22 (Dropout)         (None, 20, 15, 15, 64)    0         \n",
      "_________________________________________________________________\n",
      "time_distributed_71 (TimeDis (None, 20, 15, 15, 128)   73856     \n",
      "_________________________________________________________________\n",
      "time_distributed_72 (TimeDis (None, 20, 15, 15, 128)   512       \n",
      "_________________________________________________________________\n",
      "time_distributed_73 (TimeDis (None, 20, 7, 7, 128)     0         \n",
      "_________________________________________________________________\n",
      "dropout_23 (Dropout)         (None, 20, 7, 7, 128)     0         \n",
      "_________________________________________________________________\n",
      "time_distributed_74 (TimeDis (None, 20, 7, 7, 128)     147584    \n",
      "_________________________________________________________________\n",
      "time_distributed_75 (TimeDis (None, 20, 7, 7, 128)     512       \n",
      "_________________________________________________________________\n",
      "time_distributed_76 (TimeDis (None, 20, 3, 3, 128)     0         \n",
      "_________________________________________________________________\n",
      "dropout_24 (Dropout)         (None, 20, 3, 3, 128)     0         \n",
      "_________________________________________________________________\n",
      "time_distributed_77 (TimeDis (None, 20, 1152)          0         \n",
      "_________________________________________________________________\n",
      "gru_1 (GRU)                  (None, 512)               2558976   \n",
      "_________________________________________________________________\n",
      "dense_21 (Dense)             (None, 512)               262656    \n",
      "_________________________________________________________________\n",
      "dropout_25 (Dropout)         (None, 512)               0         \n",
      "_________________________________________________________________\n",
      "dense_22 (Dense)             (None, 5)                 2565      \n",
      "=================================================================\n",
      "Total params: 3,123,077\n",
      "Trainable params: 3,122,181\n",
      "Non-trainable params: 896\n",
      "_________________________________________________________________\n",
      "None\n"
     ]
    }
   ],
   "source": [
    "model = Sequential()\n",
    "\n",
    "model.add(TimeDistributed(Conv2D(64, (3, 3) , padding='same', activation='relu'),input_shape = input_shape))\n",
    "model.add(TimeDistributed(BatchNormalization()))\n",
    "model.add(TimeDistributed(MaxPooling2D((2, 2))))\n",
    "\n",
    "model.add(TimeDistributed(Conv2D(64, (3, 3) , padding='same', activation='relu')))\n",
    "model.add(TimeDistributed(BatchNormalization()))\n",
    "model.add(TimeDistributed(MaxPooling2D((2, 2))))\n",
    "model.add(Dropout(0.5))\n",
    "\n",
    "model.add(TimeDistributed(Conv2D(64, (3, 3) , padding='same', activation='relu')))\n",
    "model.add(TimeDistributed(BatchNormalization()))\n",
    "model.add(TimeDistributed(MaxPooling2D((2, 2))))\n",
    "model.add(Dropout(0.5))\n",
    "\n",
    "model.add(TimeDistributed(Conv2D(128, (3, 3) , padding='same', activation='relu')))\n",
    "model.add(TimeDistributed(BatchNormalization()))\n",
    "model.add(TimeDistributed(MaxPooling2D((2, 2))))\n",
    "model.add(Dropout(0.5))\n",
    "\n",
    "\n",
    "model.add(TimeDistributed(Conv2D(128, (3, 3) , padding='same', activation='relu')))\n",
    "model.add(TimeDistributed(BatchNormalization()))\n",
    "model.add(TimeDistributed(MaxPooling2D((2, 2))))\n",
    "model.add(Dropout(0.5))\n",
    "\n",
    "model.add(TimeDistributed(Flatten()))\n",
    "\n",
    "\n",
    "model.add(GRU(512))\n",
    "\n",
    "model.add(Dense(512,activation='relu'))\n",
    "model.add(Dropout(0.5))\n",
    "\n",
    "model.add(Dense(5, activation='softmax'))\n",
    "\n",
    "\n",
    "optimiser = 'adam'\n",
    "model.compile(optimizer=optimiser, loss='categorical_crossentropy', metrics=['categorical_accuracy'])\n",
    "print (model.summary())\n"
   ]
  },
  {
   "cell_type": "code",
   "execution_count": 63,
   "metadata": {
    "colab": {
     "base_uri": "https://localhost:8080/"
    },
    "id": "evOasHEPxOGz",
    "outputId": "47b9da73-272c-469e-f55f-fa1d0ba889cb"
   },
   "outputs": [
    {
     "name": "stderr",
     "output_type": "stream",
     "text": [
      "/usr/local/lib/python3.7/dist-packages/tensorflow/python/keras/engine/training.py:1844: UserWarning: `Model.fit_generator` is deprecated and will be removed in a future version. Please use `Model.fit`, which supports generators.\n",
      "  warnings.warn('`Model.fit_generator` is deprecated and '\n"
     ]
    },
    {
     "name": "stdout",
     "output_type": "stream",
     "text": [
      "Epoch 1/10\n",
      "67/67 [==============================] - 65s 926ms/step - loss: 1.9605 - categorical_accuracy: 0.3016 - val_loss: 3.0524 - val_categorical_accuracy: 0.1600\n",
      "\n",
      "Epoch 00001: val_loss did not improve from 0.74814\n",
      "Epoch 2/10\n",
      "67/67 [==============================] - 61s 927ms/step - loss: 1.3769 - categorical_accuracy: 0.4190 - val_loss: 3.6112 - val_categorical_accuracy: 0.2100\n",
      "\n",
      "Epoch 00002: val_loss did not improve from 0.74814\n",
      "Epoch 3/10\n",
      "67/67 [==============================] - 62s 931ms/step - loss: 1.1362 - categorical_accuracy: 0.5529 - val_loss: 4.3050 - val_categorical_accuracy: 0.1300\n",
      "\n",
      "Epoch 00003: val_loss did not improve from 0.74814\n",
      "\n",
      "Epoch 00003: ReduceLROnPlateau reducing learning rate to 0.00010000000474974513.\n",
      "Epoch 4/10\n",
      "67/67 [==============================] - 61s 928ms/step - loss: 0.9729 - categorical_accuracy: 0.6201 - val_loss: 3.2788 - val_categorical_accuracy: 0.2500\n",
      "\n",
      "Epoch 00004: val_loss did not improve from 0.74814\n",
      "Epoch 5/10\n",
      "67/67 [==============================] - 62s 929ms/step - loss: 0.8745 - categorical_accuracy: 0.6254 - val_loss: 3.5250 - val_categorical_accuracy: 0.2000\n",
      "\n",
      "Epoch 00005: val_loss did not improve from 0.74814\n",
      "\n",
      "Epoch 00005: ReduceLROnPlateau reducing learning rate to 1.0000000474974514e-05.\n",
      "Epoch 6/10\n",
      "67/67 [==============================] - 61s 924ms/step - loss: 0.8563 - categorical_accuracy: 0.6696 - val_loss: 3.1512 - val_categorical_accuracy: 0.2500\n",
      "\n",
      "Epoch 00006: val_loss did not improve from 0.74814\n",
      "Epoch 7/10\n",
      "67/67 [==============================] - 62s 937ms/step - loss: 0.8188 - categorical_accuracy: 0.6772 - val_loss: 3.2406 - val_categorical_accuracy: 0.2400\n",
      "\n",
      "Epoch 00007: val_loss did not improve from 0.74814\n",
      "\n",
      "Epoch 00007: ReduceLROnPlateau reducing learning rate to 1.0000000656873453e-06.\n",
      "Epoch 8/10\n",
      "67/67 [==============================] - 62s 934ms/step - loss: 0.7332 - categorical_accuracy: 0.6990 - val_loss: 2.8009 - val_categorical_accuracy: 0.3400\n",
      "\n",
      "Epoch 00008: val_loss did not improve from 0.74814\n",
      "Epoch 9/10\n",
      "67/67 [==============================] - 60s 907ms/step - loss: 0.8802 - categorical_accuracy: 0.6259 - val_loss: 2.6325 - val_categorical_accuracy: 0.3600\n",
      "\n",
      "Epoch 00009: val_loss did not improve from 0.74814\n",
      "Epoch 10/10\n",
      "67/67 [==============================] - 62s 934ms/step - loss: 0.7939 - categorical_accuracy: 0.6819 - val_loss: 2.5043 - val_categorical_accuracy: 0.3900\n",
      "\n",
      "Epoch 00010: val_loss did not improve from 0.74814\n"
     ]
    }
   ],
   "source": [
    "history = model.fit_generator(train_generator, steps_per_epoch=steps_per_epoch, epochs=num_epochs, verbose=1, \n",
    "                    callbacks=callbacks_list, validation_data=val_generator, \n",
    "                    validation_steps=validation_steps, class_weight=None, workers=1, initial_epoch=0)"
   ]
  },
  {
   "cell_type": "code",
   "execution_count": 64,
   "metadata": {
    "colab": {
     "base_uri": "https://localhost:8080/",
     "height": 265
    },
    "id": "i2mD4zKDxOGz",
    "outputId": "179c8646-f9fe-4f3b-d7c9-b24e4ec13521"
   },
   "outputs": [
    {
     "data": {
      "image/png": "[encoded data removed]",
      "text/plain": [
       "<Figure size 1080x288 with 2 Axes>"
      ]
     },
     "metadata": {
      "needs_background": "light",
      "tags": []
     },
     "output_type": "display_data"
    }
   ],
   "source": [
    "plot(history)"
   ]
  },
  {
   "cell_type": "code",
   "execution_count": 65,
   "metadata": {
    "colab": {
     "base_uri": "https://localhost:8080/"
    },
    "id": "y_tBtpG9xOG0",
    "outputId": "eac0821a-9926-4e54-c549-8e2aee8f0596"
   },
   "outputs": [
    {
     "name": "stdout",
     "output_type": "stream",
     "text": [
      "                   Model Name  Model Accuracy  ...  Val Accuracy     Val Loss\n",
      "0             Model_1_Vanilla       47.014925  ...     33.000001  3748.384857\n",
      "0                 Model_3_SGD       69.402987  ...     47.000000  1007.729626\n",
      "0              Model_2_Tuning       91.194028  ...     43.000001   379.239225\n",
      "0              Model_2_Add_HL       81.492537  ...     51.999998   541.738272\n",
      "0              Model_5_Tuning       68.656719  ...     30.000001   427.992392\n",
      "0             Model_6_CNN_RNN       88.507462  ...     63.999999    93.978983\n",
      "0  Model_7_CNN_RNN_Add_Tuning       85.820895  ...     56.999999   115.549910\n",
      "0            Model_8_CNN_LSTM       80.000001  ...     60.000002   108.709717\n",
      "0       Model_9_CNN_LSTM_Tune       77.761191  ...     63.000000    99.936372\n",
      "0            Model_10_CNN_GRU       90.149254  ...     73.000002    74.813592\n",
      "0     Model_11_CNN_GRU_Tuning       69.552237  ...     38.999999   250.432110\n",
      "\n",
      "[11 rows x 5 columns]\n"
     ]
    }
   ],
   "source": [
    "df1 = model_result(\"Model_11_CNN_GRU_Tuning\",history.history['categorical_accuracy'][-1], history.history['loss'][-1] , history.history['val_categorical_accuracy'][-1], history.history['val_loss'][-1])\n",
    "\n",
    "model_detail_df = pd.concat([model_detail_df,df1])\n",
    "print(model_detail_df.head(20))"
   ]
  },
  {
   "cell_type": "markdown",
   "metadata": {},
   "source": [
    "This is the end of the execution and the results and final conclusions are documented in the writeup. We have put all our experiment as part of notebook but the final model is chosen \"Model_10_CNN_GRU\""
   ]
  }
 ],
 "metadata": {
  "accelerator": "GPU",
  "colab": {
   "collapsed_sections": [
    "HPZeFnfDxOGX",
    "wONfTZ83xOGZ",
    "D3_yqhZlxOGj",
    "7WxwcGbGxOGo"
   ],
   "name": "Neural_Nets_Project_Starter_Code__final_Arunava_Aditya.ipynb",
   "provenance": [],
   "toc_visible": true
  },
  "kernelspec": {
   "display_name": "Python 3",
   "language": "python",
   "name": "python3"
  },
  "language_info": {
   "codemirror_mode": {
    "name": "ipython",
    "version": 3
   },
   "file_extension": ".py",
   "mimetype": "text/x-python",
   "name": "python",
   "nbconvert_exporter": "python",
   "pygments_lexer": "ipython3",
   "version": "3.8.5"
  }
 },
 "nbformat": 4,
 "nbformat_minor": 1
}
